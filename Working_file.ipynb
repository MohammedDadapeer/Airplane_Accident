{
  "nbformat": 4,
  "nbformat_minor": 0,
  "metadata": {
    "colab": {
      "name": "Working file.ipynb",
      "provenance": [],
      "collapsed_sections": []
    },
    "kernelspec": {
      "name": "python3",
      "display_name": "Python 3"
    }
  },
  "cells": [
    {
      "cell_type": "markdown",
      "metadata": {
        "id": "reHYWTL0Ajnf"
      },
      "source": [
        "Airplane_Accident"
      ]
    },
    {
      "cell_type": "markdown",
      "metadata": {
        "id": "F241usggArkm"
      },
      "source": [
        "Problem statement\r\n",
        "Flying has been the go-to mode of travel for years now; it is time-saving, affordable, and extremely convenient. According to the FAA, 2,781,971 passengers fly every day in the US, as in June 2019. Passengers reckon that flying is very safe, considering strict inspections are conducted and security measures are taken to avoid and/or mitigate any mishappenings. However, there remain a few chances of unfortunate incidents.\r\n",
        "\r\n",
        "Imagine you have been hired by a leading airline. You are required to build Machine Learning models to anticipate and classify the severity of any airplane accident based on past incidents. With this, all airlines, even the entire aviation industry, can predict the severity of airplane accidents caused due to various factors and, correspondingly, have a plan of action to minimize the risk associated with them.\r\n",
        "\r\n",
        "Data set\r\n",
        "The dataset consists of certain parameters recorded during the incident⁠ such as cabin temperature, turbulence experienced, number of safety complaints prior to the accident, number of days since the last inspection was conducted before the incident, an estimation of the pilot’s control given the various factors at play, and the likes.\r\n",
        "The benefits of practicing this problem by using Machine Learning techniques are as follows:\r\n",
        "This challenge will encourage you to apply your Machine Learning skills to build models that can anticipate the severity of any airplane accident\r\n",
        "This challenge will help you enhance your knowledge of classification actively. Classification is one of the basic building blocks of Machine Learning\r\n",
        "We challenge you to build a model that predicts how severe an airplane accident could be."
      ]
    },
    {
      "cell_type": "code",
      "metadata": {
        "colab": {
          "base_uri": "https://localhost:8080/"
        },
        "id": "6da8QgSsAsdH",
        "outputId": "209d4a3a-f43c-45e8-a1bd-8fdf6148ce68"
      },
      "source": [
        "from google.colab import drive\r\n",
        "drive.mount('/gdrive')"
      ],
      "execution_count": 5,
      "outputs": [
        {
          "output_type": "stream",
          "text": [
            "Mounted at /gdrive\n"
          ],
          "name": "stdout"
        }
      ]
    },
    {
      "cell_type": "markdown",
      "metadata": {
        "id": "mgO3nlKEBRir"
      },
      "source": [
        "Importing all the libraries\r\n"
      ]
    },
    {
      "cell_type": "code",
      "metadata": {
        "id": "VVHdewOJA820"
      },
      "source": [
        "import os\r\n",
        "import numpy as np\r\n",
        "import pandas as pd\r\n",
        "\r\n",
        "from sklearn import preprocessing\r\n",
        "from sklearn.impute import SimpleImputer\r\n",
        "\r\n",
        "from sklearn.compose import ColumnTransformer\r\n",
        "from sklearn.metrics import f1_score\r\n",
        "\r\n",
        "from sklearn.preprocessing import StandardScaler\r\n",
        "from sklearn.preprocessing import OneHotEncoder\r\n",
        "from sklearn.model_selection import train_test_split\r\n",
        "from sklearn.pipeline import Pipeline\r\n",
        "from sklearn.model_selection import GridSearchCV, cross_val_score, StratifiedKFold\r\n",
        "\r\n",
        "from sklearn.tree import DecisionTreeClassifier\r\n",
        "from sklearn.ensemble import RandomForestClassifier\r\n",
        "from sklearn.svm import SVC\r\n",
        "from sklearn.linear_model import LogisticRegression\r\n",
        "\r\n",
        "from sklearn.ensemble import GradientBoostingClassifier\r\n",
        "from sklearn.ensemble import AdaBoostClassifier\r\n",
        "from sklearn.metrics import confusion_matrix\r\n",
        "\r\n",
        "import matplotlib.pyplot as plt\r\n",
        "# !pip install seaborn\r\n",
        "import seaborn as sns\r\n",
        "\r\n",
        "#!pip install imblearn\r\n",
        "#if the above command does not work to install imblearn package run the following command in your terminal\r\n",
        "# conda install -c glemaitre imbalanced-learn\r\n",
        "from imblearn.over_sampling import SMOTE\r\n",
        "from sklearn.metrics import accuracy_score, recall_score, precision_score\r\n",
        "\r\n",
        "import warnings\r\n",
        "warnings.filterwarnings('ignore')"
      ],
      "execution_count": 6,
      "outputs": []
    },
    {
      "cell_type": "markdown",
      "metadata": {
        "id": "XYCYSpSyB0an"
      },
      "source": [
        "Reading the data sets"
      ]
    },
    {
      "cell_type": "code",
      "metadata": {
        "id": "LihuqpXQBrrT"
      },
      "source": [
        "test_data = pd.read_csv('/gdrive/MyDrive/Kaggle data sets/Airplane_Accident_Master/test.csv', sep=',', header=0, na_values = 'unknown')\r\n",
        "train_data = pd.read_csv('/gdrive/MyDrive/Kaggle data sets/Airplane_Accident_Master/train.csv', sep=',', header=0, na_values = 'unknown')"
      ],
      "execution_count": 7,
      "outputs": []
    },
    {
      "cell_type": "code",
      "metadata": {
        "colab": {
          "base_uri": "https://localhost:8080/",
          "height": 224
        },
        "id": "oeF7iRgmCgoV",
        "outputId": "12e35ea1-bf53-4ac8-c5e8-b7ded42eb4e3"
      },
      "source": [
        "test_data.head()"
      ],
      "execution_count": 8,
      "outputs": [
        {
          "output_type": "execute_result",
          "data": {
            "text/html": [
              "<div>\n",
              "<style scoped>\n",
              "    .dataframe tbody tr th:only-of-type {\n",
              "        vertical-align: middle;\n",
              "    }\n",
              "\n",
              "    .dataframe tbody tr th {\n",
              "        vertical-align: top;\n",
              "    }\n",
              "\n",
              "    .dataframe thead th {\n",
              "        text-align: right;\n",
              "    }\n",
              "</style>\n",
              "<table border=\"1\" class=\"dataframe\">\n",
              "  <thead>\n",
              "    <tr style=\"text-align: right;\">\n",
              "      <th></th>\n",
              "      <th>Safety_Score</th>\n",
              "      <th>Days_Since_Inspection</th>\n",
              "      <th>Total_Safety_Complaints</th>\n",
              "      <th>Control_Metric</th>\n",
              "      <th>Turbulence_In_gforces</th>\n",
              "      <th>Cabin_Temperature</th>\n",
              "      <th>Accident_Type_Code</th>\n",
              "      <th>Max_Elevation</th>\n",
              "      <th>Violations</th>\n",
              "      <th>Adverse_Weather_Metric</th>\n",
              "      <th>Accident_ID</th>\n",
              "    </tr>\n",
              "  </thead>\n",
              "  <tbody>\n",
              "    <tr>\n",
              "      <th>0</th>\n",
              "      <td>19.497717</td>\n",
              "      <td>16</td>\n",
              "      <td>6</td>\n",
              "      <td>72.151322</td>\n",
              "      <td>0.388959</td>\n",
              "      <td>78.32</td>\n",
              "      <td>4</td>\n",
              "      <td>37949.724386</td>\n",
              "      <td>2</td>\n",
              "      <td>0.069692</td>\n",
              "      <td>1</td>\n",
              "    </tr>\n",
              "    <tr>\n",
              "      <th>1</th>\n",
              "      <td>58.173516</td>\n",
              "      <td>15</td>\n",
              "      <td>3</td>\n",
              "      <td>64.585232</td>\n",
              "      <td>0.250841</td>\n",
              "      <td>78.60</td>\n",
              "      <td>7</td>\n",
              "      <td>30194.805567</td>\n",
              "      <td>2</td>\n",
              "      <td>0.002777</td>\n",
              "      <td>10</td>\n",
              "    </tr>\n",
              "    <tr>\n",
              "      <th>2</th>\n",
              "      <td>33.287671</td>\n",
              "      <td>15</td>\n",
              "      <td>3</td>\n",
              "      <td>64.721969</td>\n",
              "      <td>0.336669</td>\n",
              "      <td>86.96</td>\n",
              "      <td>6</td>\n",
              "      <td>17572.925484</td>\n",
              "      <td>1</td>\n",
              "      <td>0.004316</td>\n",
              "      <td>14</td>\n",
              "    </tr>\n",
              "    <tr>\n",
              "      <th>3</th>\n",
              "      <td>3.287671</td>\n",
              "      <td>21</td>\n",
              "      <td>5</td>\n",
              "      <td>66.362808</td>\n",
              "      <td>0.421775</td>\n",
              "      <td>80.86</td>\n",
              "      <td>3</td>\n",
              "      <td>40209.186341</td>\n",
              "      <td>2</td>\n",
              "      <td>0.199990</td>\n",
              "      <td>17</td>\n",
              "    </tr>\n",
              "    <tr>\n",
              "      <th>4</th>\n",
              "      <td>10.867580</td>\n",
              "      <td>18</td>\n",
              "      <td>2</td>\n",
              "      <td>56.107566</td>\n",
              "      <td>0.313228</td>\n",
              "      <td>79.22</td>\n",
              "      <td>2</td>\n",
              "      <td>35495.525408</td>\n",
              "      <td>2</td>\n",
              "      <td>0.483696</td>\n",
              "      <td>21</td>\n",
              "    </tr>\n",
              "  </tbody>\n",
              "</table>\n",
              "</div>"
            ],
            "text/plain": [
              "   Safety_Score  Days_Since_Inspection  ...  Adverse_Weather_Metric  Accident_ID\n",
              "0     19.497717                     16  ...                0.069692            1\n",
              "1     58.173516                     15  ...                0.002777           10\n",
              "2     33.287671                     15  ...                0.004316           14\n",
              "3      3.287671                     21  ...                0.199990           17\n",
              "4     10.867580                     18  ...                0.483696           21\n",
              "\n",
              "[5 rows x 11 columns]"
            ]
          },
          "metadata": {
            "tags": []
          },
          "execution_count": 8
        }
      ]
    },
    {
      "cell_type": "code",
      "metadata": {
        "colab": {
          "base_uri": "https://localhost:8080/",
          "height": 224
        },
        "id": "yJT09SXjC3nE",
        "outputId": "3fa1cde7-15de-4884-b2f8-573128735002"
      },
      "source": [
        "train_data.head()"
      ],
      "execution_count": 9,
      "outputs": [
        {
          "output_type": "execute_result",
          "data": {
            "text/html": [
              "<div>\n",
              "<style scoped>\n",
              "    .dataframe tbody tr th:only-of-type {\n",
              "        vertical-align: middle;\n",
              "    }\n",
              "\n",
              "    .dataframe tbody tr th {\n",
              "        vertical-align: top;\n",
              "    }\n",
              "\n",
              "    .dataframe thead th {\n",
              "        text-align: right;\n",
              "    }\n",
              "</style>\n",
              "<table border=\"1\" class=\"dataframe\">\n",
              "  <thead>\n",
              "    <tr style=\"text-align: right;\">\n",
              "      <th></th>\n",
              "      <th>Severity</th>\n",
              "      <th>Safety_Score</th>\n",
              "      <th>Days_Since_Inspection</th>\n",
              "      <th>Total_Safety_Complaints</th>\n",
              "      <th>Control_Metric</th>\n",
              "      <th>Turbulence_In_gforces</th>\n",
              "      <th>Cabin_Temperature</th>\n",
              "      <th>Accident_Type_Code</th>\n",
              "      <th>Max_Elevation</th>\n",
              "      <th>Violations</th>\n",
              "      <th>Adverse_Weather_Metric</th>\n",
              "      <th>Accident_ID</th>\n",
              "    </tr>\n",
              "  </thead>\n",
              "  <tbody>\n",
              "    <tr>\n",
              "      <th>0</th>\n",
              "      <td>Minor_Damage_And_Injuries</td>\n",
              "      <td>49.223744</td>\n",
              "      <td>14</td>\n",
              "      <td>22</td>\n",
              "      <td>71.285324</td>\n",
              "      <td>0.272118</td>\n",
              "      <td>78.04</td>\n",
              "      <td>2</td>\n",
              "      <td>31335.476824</td>\n",
              "      <td>3</td>\n",
              "      <td>0.424352</td>\n",
              "      <td>7570</td>\n",
              "    </tr>\n",
              "    <tr>\n",
              "      <th>1</th>\n",
              "      <td>Minor_Damage_And_Injuries</td>\n",
              "      <td>62.465753</td>\n",
              "      <td>10</td>\n",
              "      <td>27</td>\n",
              "      <td>72.288058</td>\n",
              "      <td>0.423939</td>\n",
              "      <td>84.54</td>\n",
              "      <td>2</td>\n",
              "      <td>26024.711057</td>\n",
              "      <td>2</td>\n",
              "      <td>0.352350</td>\n",
              "      <td>12128</td>\n",
              "    </tr>\n",
              "    <tr>\n",
              "      <th>2</th>\n",
              "      <td>Significant_Damage_And_Fatalities</td>\n",
              "      <td>63.059361</td>\n",
              "      <td>13</td>\n",
              "      <td>16</td>\n",
              "      <td>66.362808</td>\n",
              "      <td>0.322604</td>\n",
              "      <td>78.86</td>\n",
              "      <td>7</td>\n",
              "      <td>39269.053927</td>\n",
              "      <td>3</td>\n",
              "      <td>0.003364</td>\n",
              "      <td>2181</td>\n",
              "    </tr>\n",
              "    <tr>\n",
              "      <th>3</th>\n",
              "      <td>Significant_Damage_And_Serious_Injuries</td>\n",
              "      <td>48.082192</td>\n",
              "      <td>11</td>\n",
              "      <td>9</td>\n",
              "      <td>74.703737</td>\n",
              "      <td>0.337029</td>\n",
              "      <td>81.79</td>\n",
              "      <td>3</td>\n",
              "      <td>42771.499200</td>\n",
              "      <td>1</td>\n",
              "      <td>0.211728</td>\n",
              "      <td>5946</td>\n",
              "    </tr>\n",
              "    <tr>\n",
              "      <th>4</th>\n",
              "      <td>Significant_Damage_And_Fatalities</td>\n",
              "      <td>26.484018</td>\n",
              "      <td>13</td>\n",
              "      <td>25</td>\n",
              "      <td>47.948952</td>\n",
              "      <td>0.541140</td>\n",
              "      <td>77.16</td>\n",
              "      <td>3</td>\n",
              "      <td>35509.228515</td>\n",
              "      <td>2</td>\n",
              "      <td>0.176883</td>\n",
              "      <td>9054</td>\n",
              "    </tr>\n",
              "  </tbody>\n",
              "</table>\n",
              "</div>"
            ],
            "text/plain": [
              "                                  Severity  ...  Accident_ID\n",
              "0                Minor_Damage_And_Injuries  ...         7570\n",
              "1                Minor_Damage_And_Injuries  ...        12128\n",
              "2        Significant_Damage_And_Fatalities  ...         2181\n",
              "3  Significant_Damage_And_Serious_Injuries  ...         5946\n",
              "4        Significant_Damage_And_Fatalities  ...         9054\n",
              "\n",
              "[5 rows x 12 columns]"
            ]
          },
          "metadata": {
            "tags": []
          },
          "execution_count": 9
        }
      ]
    },
    {
      "cell_type": "code",
      "metadata": {
        "colab": {
          "base_uri": "https://localhost:8080/"
        },
        "id": "JS86tcswC7Jf",
        "outputId": "ba992566-acbf-4d86-cad2-8d684ee07085"
      },
      "source": [
        "test_data.dtypes"
      ],
      "execution_count": 10,
      "outputs": [
        {
          "output_type": "execute_result",
          "data": {
            "text/plain": [
              "Safety_Score               float64\n",
              "Days_Since_Inspection        int64\n",
              "Total_Safety_Complaints      int64\n",
              "Control_Metric             float64\n",
              "Turbulence_In_gforces      float64\n",
              "Cabin_Temperature          float64\n",
              "Accident_Type_Code           int64\n",
              "Max_Elevation              float64\n",
              "Violations                   int64\n",
              "Adverse_Weather_Metric     float64\n",
              "Accident_ID                  int64\n",
              "dtype: object"
            ]
          },
          "metadata": {
            "tags": []
          },
          "execution_count": 10
        }
      ]
    },
    {
      "cell_type": "code",
      "metadata": {
        "colab": {
          "base_uri": "https://localhost:8080/"
        },
        "id": "2rKUbXmXC-Gb",
        "outputId": "4b31619f-47d8-4902-80c6-c1457d0466ee"
      },
      "source": [
        "train_data.dtypes"
      ],
      "execution_count": 11,
      "outputs": [
        {
          "output_type": "execute_result",
          "data": {
            "text/plain": [
              "Severity                    object\n",
              "Safety_Score               float64\n",
              "Days_Since_Inspection        int64\n",
              "Total_Safety_Complaints      int64\n",
              "Control_Metric             float64\n",
              "Turbulence_In_gforces      float64\n",
              "Cabin_Temperature          float64\n",
              "Accident_Type_Code           int64\n",
              "Max_Elevation              float64\n",
              "Violations                   int64\n",
              "Adverse_Weather_Metric     float64\n",
              "Accident_ID                  int64\n",
              "dtype: object"
            ]
          },
          "metadata": {
            "tags": []
          },
          "execution_count": 11
        }
      ]
    },
    {
      "cell_type": "code",
      "metadata": {
        "colab": {
          "base_uri": "https://localhost:8080/",
          "height": 317
        },
        "id": "tY6ru0tOWPef",
        "outputId": "438d42c9-6ece-4d63-8681-81057cbec532"
      },
      "source": [
        "train_data.describe()"
      ],
      "execution_count": 12,
      "outputs": [
        {
          "output_type": "execute_result",
          "data": {
            "text/html": [
              "<div>\n",
              "<style scoped>\n",
              "    .dataframe tbody tr th:only-of-type {\n",
              "        vertical-align: middle;\n",
              "    }\n",
              "\n",
              "    .dataframe tbody tr th {\n",
              "        vertical-align: top;\n",
              "    }\n",
              "\n",
              "    .dataframe thead th {\n",
              "        text-align: right;\n",
              "    }\n",
              "</style>\n",
              "<table border=\"1\" class=\"dataframe\">\n",
              "  <thead>\n",
              "    <tr style=\"text-align: right;\">\n",
              "      <th></th>\n",
              "      <th>Safety_Score</th>\n",
              "      <th>Days_Since_Inspection</th>\n",
              "      <th>Total_Safety_Complaints</th>\n",
              "      <th>Control_Metric</th>\n",
              "      <th>Turbulence_In_gforces</th>\n",
              "      <th>Cabin_Temperature</th>\n",
              "      <th>Accident_Type_Code</th>\n",
              "      <th>Max_Elevation</th>\n",
              "      <th>Violations</th>\n",
              "      <th>Adverse_Weather_Metric</th>\n",
              "      <th>Accident_ID</th>\n",
              "    </tr>\n",
              "  </thead>\n",
              "  <tbody>\n",
              "    <tr>\n",
              "      <th>count</th>\n",
              "      <td>10000.000000</td>\n",
              "      <td>10000.000000</td>\n",
              "      <td>10000.000000</td>\n",
              "      <td>10000.000000</td>\n",
              "      <td>10000.000000</td>\n",
              "      <td>10000.000000</td>\n",
              "      <td>10000.000000</td>\n",
              "      <td>10000.000000</td>\n",
              "      <td>10000.00000</td>\n",
              "      <td>10000.000000</td>\n",
              "      <td>10000.000000</td>\n",
              "    </tr>\n",
              "    <tr>\n",
              "      <th>mean</th>\n",
              "      <td>41.876406</td>\n",
              "      <td>12.931100</td>\n",
              "      <td>6.564300</td>\n",
              "      <td>65.145324</td>\n",
              "      <td>0.381495</td>\n",
              "      <td>79.969331</td>\n",
              "      <td>3.814900</td>\n",
              "      <td>32001.803282</td>\n",
              "      <td>2.01220</td>\n",
              "      <td>0.255635</td>\n",
              "      <td>6266.554200</td>\n",
              "    </tr>\n",
              "    <tr>\n",
              "      <th>std</th>\n",
              "      <td>16.138072</td>\n",
              "      <td>3.539803</td>\n",
              "      <td>6.971982</td>\n",
              "      <td>11.882934</td>\n",
              "      <td>0.121301</td>\n",
              "      <td>2.759739</td>\n",
              "      <td>1.902577</td>\n",
              "      <td>9431.995196</td>\n",
              "      <td>1.03998</td>\n",
              "      <td>0.381128</td>\n",
              "      <td>3610.170288</td>\n",
              "    </tr>\n",
              "    <tr>\n",
              "      <th>min</th>\n",
              "      <td>0.000000</td>\n",
              "      <td>1.000000</td>\n",
              "      <td>0.000000</td>\n",
              "      <td>0.000000</td>\n",
              "      <td>0.134000</td>\n",
              "      <td>74.740000</td>\n",
              "      <td>1.000000</td>\n",
              "      <td>831.695553</td>\n",
              "      <td>0.00000</td>\n",
              "      <td>0.000316</td>\n",
              "      <td>2.000000</td>\n",
              "    </tr>\n",
              "    <tr>\n",
              "      <th>25%</th>\n",
              "      <td>30.593607</td>\n",
              "      <td>11.000000</td>\n",
              "      <td>2.000000</td>\n",
              "      <td>56.927985</td>\n",
              "      <td>0.293665</td>\n",
              "      <td>77.960000</td>\n",
              "      <td>2.000000</td>\n",
              "      <td>25757.636908</td>\n",
              "      <td>1.00000</td>\n",
              "      <td>0.012063</td>\n",
              "      <td>3139.750000</td>\n",
              "    </tr>\n",
              "    <tr>\n",
              "      <th>50%</th>\n",
              "      <td>41.278539</td>\n",
              "      <td>13.000000</td>\n",
              "      <td>4.000000</td>\n",
              "      <td>65.587967</td>\n",
              "      <td>0.365879</td>\n",
              "      <td>79.540000</td>\n",
              "      <td>4.000000</td>\n",
              "      <td>32060.336419</td>\n",
              "      <td>2.00000</td>\n",
              "      <td>0.074467</td>\n",
              "      <td>6280.500000</td>\n",
              "    </tr>\n",
              "    <tr>\n",
              "      <th>75%</th>\n",
              "      <td>52.511416</td>\n",
              "      <td>15.000000</td>\n",
              "      <td>9.000000</td>\n",
              "      <td>73.336372</td>\n",
              "      <td>0.451346</td>\n",
              "      <td>81.560000</td>\n",
              "      <td>5.000000</td>\n",
              "      <td>38380.641513</td>\n",
              "      <td>3.00000</td>\n",
              "      <td>0.354059</td>\n",
              "      <td>9391.500000</td>\n",
              "    </tr>\n",
              "    <tr>\n",
              "      <th>max</th>\n",
              "      <td>100.000000</td>\n",
              "      <td>23.000000</td>\n",
              "      <td>54.000000</td>\n",
              "      <td>100.000000</td>\n",
              "      <td>0.882648</td>\n",
              "      <td>97.510000</td>\n",
              "      <td>7.000000</td>\n",
              "      <td>64297.651218</td>\n",
              "      <td>5.00000</td>\n",
              "      <td>2.365378</td>\n",
              "      <td>12500.000000</td>\n",
              "    </tr>\n",
              "  </tbody>\n",
              "</table>\n",
              "</div>"
            ],
            "text/plain": [
              "       Safety_Score  ...   Accident_ID\n",
              "count  10000.000000  ...  10000.000000\n",
              "mean      41.876406  ...   6266.554200\n",
              "std       16.138072  ...   3610.170288\n",
              "min        0.000000  ...      2.000000\n",
              "25%       30.593607  ...   3139.750000\n",
              "50%       41.278539  ...   6280.500000\n",
              "75%       52.511416  ...   9391.500000\n",
              "max      100.000000  ...  12500.000000\n",
              "\n",
              "[8 rows x 11 columns]"
            ]
          },
          "metadata": {
            "tags": []
          },
          "execution_count": 12
        }
      ]
    },
    {
      "cell_type": "code",
      "metadata": {
        "colab": {
          "base_uri": "https://localhost:8080/"
        },
        "id": "BEXeW2C-Lvwj",
        "outputId": "81210eb5-20c6-4e5b-ca39-6f986dcfc8f1"
      },
      "source": [
        "print(list(train_data.columns))"
      ],
      "execution_count": 13,
      "outputs": [
        {
          "output_type": "stream",
          "text": [
            "['Severity', 'Safety_Score', 'Days_Since_Inspection', 'Total_Safety_Complaints', 'Control_Metric', 'Turbulence_In_gforces', 'Cabin_Temperature', 'Accident_Type_Code', 'Max_Elevation', 'Violations', 'Adverse_Weather_Metric', 'Accident_ID']\n"
          ],
          "name": "stdout"
        }
      ]
    },
    {
      "cell_type": "code",
      "metadata": {
        "colab": {
          "base_uri": "https://localhost:8080/",
          "height": 173
        },
        "id": "5GhrgrM8MnEn",
        "outputId": "c9b54560-cf7c-46f5-8fb5-49c931f96ebd"
      },
      "source": [
        "train_data.describe(include='object')"
      ],
      "execution_count": 14,
      "outputs": [
        {
          "output_type": "execute_result",
          "data": {
            "text/html": [
              "<div>\n",
              "<style scoped>\n",
              "    .dataframe tbody tr th:only-of-type {\n",
              "        vertical-align: middle;\n",
              "    }\n",
              "\n",
              "    .dataframe tbody tr th {\n",
              "        vertical-align: top;\n",
              "    }\n",
              "\n",
              "    .dataframe thead th {\n",
              "        text-align: right;\n",
              "    }\n",
              "</style>\n",
              "<table border=\"1\" class=\"dataframe\">\n",
              "  <thead>\n",
              "    <tr style=\"text-align: right;\">\n",
              "      <th></th>\n",
              "      <th>Severity</th>\n",
              "    </tr>\n",
              "  </thead>\n",
              "  <tbody>\n",
              "    <tr>\n",
              "      <th>count</th>\n",
              "      <td>10000</td>\n",
              "    </tr>\n",
              "    <tr>\n",
              "      <th>unique</th>\n",
              "      <td>4</td>\n",
              "    </tr>\n",
              "    <tr>\n",
              "      <th>top</th>\n",
              "      <td>Highly_Fatal_And_Damaging</td>\n",
              "    </tr>\n",
              "    <tr>\n",
              "      <th>freq</th>\n",
              "      <td>3049</td>\n",
              "    </tr>\n",
              "  </tbody>\n",
              "</table>\n",
              "</div>"
            ],
            "text/plain": [
              "                         Severity\n",
              "count                       10000\n",
              "unique                          4\n",
              "top     Highly_Fatal_And_Damaging\n",
              "freq                         3049"
            ]
          },
          "metadata": {
            "tags": []
          },
          "execution_count": 14
        }
      ]
    },
    {
      "cell_type": "code",
      "metadata": {
        "colab": {
          "base_uri": "https://localhost:8080/"
        },
        "id": "3Gg5yHYMMyfX",
        "outputId": "e835b81e-dd2a-4888-ba89-942f317eebcd"
      },
      "source": [
        "train_data.Severity.value_counts()"
      ],
      "execution_count": 16,
      "outputs": [
        {
          "output_type": "execute_result",
          "data": {
            "text/plain": [
              "Highly_Fatal_And_Damaging                  3049\n",
              "Significant_Damage_And_Serious_Injuries    2729\n",
              "Minor_Damage_And_Injuries                  2527\n",
              "Significant_Damage_And_Fatalities          1695\n",
              "Name: Severity, dtype: int64"
            ]
          },
          "metadata": {
            "tags": []
          },
          "execution_count": 16
        }
      ]
    },
    {
      "cell_type": "code",
      "metadata": {
        "colab": {
          "base_uri": "https://localhost:8080/",
          "height": 224
        },
        "id": "4YCFQceGNB6X",
        "outputId": "d2536c2a-1e3c-42ed-f497-5a6b7771a639"
      },
      "source": [
        "train_data.groupby('Severity').mean()"
      ],
      "execution_count": 18,
      "outputs": [
        {
          "output_type": "execute_result",
          "data": {
            "text/html": [
              "<div>\n",
              "<style scoped>\n",
              "    .dataframe tbody tr th:only-of-type {\n",
              "        vertical-align: middle;\n",
              "    }\n",
              "\n",
              "    .dataframe tbody tr th {\n",
              "        vertical-align: top;\n",
              "    }\n",
              "\n",
              "    .dataframe thead th {\n",
              "        text-align: right;\n",
              "    }\n",
              "</style>\n",
              "<table border=\"1\" class=\"dataframe\">\n",
              "  <thead>\n",
              "    <tr style=\"text-align: right;\">\n",
              "      <th></th>\n",
              "      <th>Safety_Score</th>\n",
              "      <th>Days_Since_Inspection</th>\n",
              "      <th>Total_Safety_Complaints</th>\n",
              "      <th>Control_Metric</th>\n",
              "      <th>Turbulence_In_gforces</th>\n",
              "      <th>Cabin_Temperature</th>\n",
              "      <th>Accident_Type_Code</th>\n",
              "      <th>Max_Elevation</th>\n",
              "      <th>Violations</th>\n",
              "      <th>Adverse_Weather_Metric</th>\n",
              "      <th>Accident_ID</th>\n",
              "    </tr>\n",
              "    <tr>\n",
              "      <th>Severity</th>\n",
              "      <th></th>\n",
              "      <th></th>\n",
              "      <th></th>\n",
              "      <th></th>\n",
              "      <th></th>\n",
              "      <th></th>\n",
              "      <th></th>\n",
              "      <th></th>\n",
              "      <th></th>\n",
              "      <th></th>\n",
              "      <th></th>\n",
              "    </tr>\n",
              "  </thead>\n",
              "  <tbody>\n",
              "    <tr>\n",
              "      <th>Highly_Fatal_And_Damaging</th>\n",
              "      <td>33.353611</td>\n",
              "      <td>12.764513</td>\n",
              "      <td>6.337160</td>\n",
              "      <td>66.541401</td>\n",
              "      <td>0.367432</td>\n",
              "      <td>80.023526</td>\n",
              "      <td>3.467366</td>\n",
              "      <td>31940.145431</td>\n",
              "      <td>1.963267</td>\n",
              "      <td>0.302307</td>\n",
              "      <td>6307.969170</td>\n",
              "    </tr>\n",
              "    <tr>\n",
              "      <th>Minor_Damage_And_Injuries</th>\n",
              "      <td>47.800305</td>\n",
              "      <td>13.170162</td>\n",
              "      <td>6.827859</td>\n",
              "      <td>64.350232</td>\n",
              "      <td>0.386255</td>\n",
              "      <td>79.903961</td>\n",
              "      <td>3.269490</td>\n",
              "      <td>32225.568306</td>\n",
              "      <td>1.981797</td>\n",
              "      <td>0.311014</td>\n",
              "      <td>6292.467353</td>\n",
              "    </tr>\n",
              "    <tr>\n",
              "      <th>Significant_Damage_And_Fatalities</th>\n",
              "      <td>47.102113</td>\n",
              "      <td>13.071386</td>\n",
              "      <td>6.486726</td>\n",
              "      <td>60.059293</td>\n",
              "      <td>0.412759</td>\n",
              "      <td>80.041516</td>\n",
              "      <td>4.500885</td>\n",
              "      <td>31300.789137</td>\n",
              "      <td>2.175811</td>\n",
              "      <td>0.247845</td>\n",
              "      <td>6181.897345</td>\n",
              "    </tr>\n",
              "    <tr>\n",
              "      <th>Significant_Damage_And_Serious_Injuries</th>\n",
              "      <td>42.667443</td>\n",
              "      <td>12.808721</td>\n",
              "      <td>6.622206</td>\n",
              "      <td>67.480750</td>\n",
              "      <td>0.373382</td>\n",
              "      <td>79.924478</td>\n",
              "      <td>4.282155</td>\n",
              "      <td>32298.893626</td>\n",
              "      <td>1.993404</td>\n",
              "      <td>0.157048</td>\n",
              "      <td>6248.868816</td>\n",
              "    </tr>\n",
              "  </tbody>\n",
              "</table>\n",
              "</div>"
            ],
            "text/plain": [
              "                                         Safety_Score  ...  Accident_ID\n",
              "Severity                                               ...             \n",
              "Highly_Fatal_And_Damaging                   33.353611  ...  6307.969170\n",
              "Minor_Damage_And_Injuries                   47.800305  ...  6292.467353\n",
              "Significant_Damage_And_Fatalities           47.102113  ...  6181.897345\n",
              "Significant_Damage_And_Serious_Injuries     42.667443  ...  6248.868816\n",
              "\n",
              "[4 rows x 11 columns]"
            ]
          },
          "metadata": {
            "tags": []
          },
          "execution_count": 18
        }
      ]
    },
    {
      "cell_type": "code",
      "metadata": {
        "colab": {
          "base_uri": "https://localhost:8080/"
        },
        "id": "ayjEO3VdNQ0M",
        "outputId": "c6c6d22e-e09d-4a4b-dfc0-0b9264f09d81"
      },
      "source": [
        "train_data.Severity.value_counts()"
      ],
      "execution_count": 19,
      "outputs": [
        {
          "output_type": "execute_result",
          "data": {
            "text/plain": [
              "Highly_Fatal_And_Damaging                  3049\n",
              "Significant_Damage_And_Serious_Injuries    2729\n",
              "Minor_Damage_And_Injuries                  2527\n",
              "Significant_Damage_And_Fatalities          1695\n",
              "Name: Severity, dtype: int64"
            ]
          },
          "metadata": {
            "tags": []
          },
          "execution_count": 19
        }
      ]
    },
    {
      "cell_type": "markdown",
      "metadata": {
        "id": "QmCwXa82NpUT"
      },
      "source": [
        "Type Casting"
      ]
    },
    {
      "cell_type": "code",
      "metadata": {
        "id": "2woJew7VNiq9"
      },
      "source": [
        "for col in ['Severity']:\r\n",
        "  train_data[col] = train_data[col].astype(\"category\")\r\n"
      ],
      "execution_count": 20,
      "outputs": []
    },
    {
      "cell_type": "code",
      "metadata": {
        "colab": {
          "base_uri": "https://localhost:8080/"
        },
        "id": "gyDJmGbhOKmA",
        "outputId": "af9131d8-6fc2-420f-a96c-320ac93960ae"
      },
      "source": [
        "train_data.dtypes"
      ],
      "execution_count": 21,
      "outputs": [
        {
          "output_type": "execute_result",
          "data": {
            "text/plain": [
              "Severity                   category\n",
              "Safety_Score                float64\n",
              "Days_Since_Inspection         int64\n",
              "Total_Safety_Complaints       int64\n",
              "Control_Metric              float64\n",
              "Turbulence_In_gforces       float64\n",
              "Cabin_Temperature           float64\n",
              "Accident_Type_Code            int64\n",
              "Max_Elevation               float64\n",
              "Violations                    int64\n",
              "Adverse_Weather_Metric      float64\n",
              "Accident_ID                   int64\n",
              "dtype: object"
            ]
          },
          "metadata": {
            "tags": []
          },
          "execution_count": 21
        }
      ]
    },
    {
      "cell_type": "code",
      "metadata": {
        "colab": {
          "base_uri": "https://localhost:8080/",
          "height": 35
        },
        "id": "mrh3FZfeONG9",
        "outputId": "886f5bc2-748d-46c9-844a-7b85dfa332fd"
      },
      "source": [
        "cat_attr = list(train_data.select_dtypes(\"category\").columns)\r\n",
        "num_attr = list(train_data.columns.difference(cat_attr))\r\n",
        "cat_attr.pop()"
      ],
      "execution_count": 22,
      "outputs": [
        {
          "output_type": "execute_result",
          "data": {
            "application/vnd.google.colaboratory.intrinsic+json": {
              "type": "string"
            },
            "text/plain": [
              "'Severity'"
            ]
          },
          "metadata": {
            "tags": []
          },
          "execution_count": 22
        }
      ]
    },
    {
      "cell_type": "code",
      "metadata": {
        "colab": {
          "base_uri": "https://localhost:8080/"
        },
        "id": "Va5LRJ5QOWFd",
        "outputId": "867fadf1-7819-474d-93d0-89285caf3017"
      },
      "source": [
        "train_data.isnull().sum()"
      ],
      "execution_count": 23,
      "outputs": [
        {
          "output_type": "execute_result",
          "data": {
            "text/plain": [
              "Severity                   0\n",
              "Safety_Score               0\n",
              "Days_Since_Inspection      0\n",
              "Total_Safety_Complaints    0\n",
              "Control_Metric             0\n",
              "Turbulence_In_gforces      0\n",
              "Cabin_Temperature          0\n",
              "Accident_Type_Code         0\n",
              "Max_Elevation              0\n",
              "Violations                 0\n",
              "Adverse_Weather_Metric     0\n",
              "Accident_ID                0\n",
              "dtype: int64"
            ]
          },
          "metadata": {
            "tags": []
          },
          "execution_count": 23
        }
      ]
    },
    {
      "cell_type": "code",
      "metadata": {
        "id": "m7giXwDSOb6T"
      },
      "source": [
        "numeric_transformer = Pipeline(steps=[\r\n",
        "                                      ('Imputer', SimpleImputer(strategy = \"median\")),\r\n",
        "                                      ('scaler', StandardScaler())])\r\n",
        "\r\n",
        "categorical_transformer = Pipeline(steps=[\r\n",
        "    ('imputer', SimpleImputer(strategy='most_frequent', fill_value='missing')),\r\n",
        "    ('onehot', OneHotEncoder(handle_unknown='ignore'))])\r\n",
        "\r\n",
        "preprocessor = ColumnTransformer(\r\n",
        "    transformers=[\r\n",
        "        ('num', numeric_transformer, num_attr),\r\n",
        "        ('cat', categorical_transformer, cat_attr)])"
      ],
      "execution_count": 24,
      "outputs": []
    },
    {
      "cell_type": "code",
      "metadata": {
        "id": "dLN2yr_9OjK7"
      },
      "source": [
        "clf_logreg = Pipeline(steps=[('preprocessor', preprocessor),\r\n",
        "                      ('classifier', LogisticRegression())])"
      ],
      "execution_count": 25,
      "outputs": []
    },
    {
      "cell_type": "markdown",
      "metadata": {
        "id": "jRwSd7uDO0Fn"
      },
      "source": [
        "Train_Test Split"
      ]
    },
    {
      "cell_type": "code",
      "metadata": {
        "id": "OhPM5nNROx0M"
      },
      "source": [
        "y = train_data['Severity']\r\n",
        "x = train_data.drop(['Severity'],axis = 1)\r\n",
        "\r\n",
        "X_train, X_test, y_train, y_test = train_test_split(x,y, test_size = 0.3, random_state = 123)"
      ],
      "execution_count": 26,
      "outputs": []
    },
    {
      "cell_type": "code",
      "metadata": {
        "colab": {
          "base_uri": "https://localhost:8080/",
          "height": 224
        },
        "id": "CYGrxZHZO9p8",
        "outputId": "2a711b18-6eca-4feb-a214-82bd6426b154"
      },
      "source": [
        "X_train.head()"
      ],
      "execution_count": 27,
      "outputs": [
        {
          "output_type": "execute_result",
          "data": {
            "text/html": [
              "<div>\n",
              "<style scoped>\n",
              "    .dataframe tbody tr th:only-of-type {\n",
              "        vertical-align: middle;\n",
              "    }\n",
              "\n",
              "    .dataframe tbody tr th {\n",
              "        vertical-align: top;\n",
              "    }\n",
              "\n",
              "    .dataframe thead th {\n",
              "        text-align: right;\n",
              "    }\n",
              "</style>\n",
              "<table border=\"1\" class=\"dataframe\">\n",
              "  <thead>\n",
              "    <tr style=\"text-align: right;\">\n",
              "      <th></th>\n",
              "      <th>Safety_Score</th>\n",
              "      <th>Days_Since_Inspection</th>\n",
              "      <th>Total_Safety_Complaints</th>\n",
              "      <th>Control_Metric</th>\n",
              "      <th>Turbulence_In_gforces</th>\n",
              "      <th>Cabin_Temperature</th>\n",
              "      <th>Accident_Type_Code</th>\n",
              "      <th>Max_Elevation</th>\n",
              "      <th>Violations</th>\n",
              "      <th>Adverse_Weather_Metric</th>\n",
              "      <th>Accident_ID</th>\n",
              "    </tr>\n",
              "  </thead>\n",
              "  <tbody>\n",
              "    <tr>\n",
              "      <th>3144</th>\n",
              "      <td>40.639269</td>\n",
              "      <td>9</td>\n",
              "      <td>3</td>\n",
              "      <td>41.020966</td>\n",
              "      <td>0.543304</td>\n",
              "      <td>80.15</td>\n",
              "      <td>1</td>\n",
              "      <td>34325.615077</td>\n",
              "      <td>3</td>\n",
              "      <td>1.263655</td>\n",
              "      <td>8159</td>\n",
              "    </tr>\n",
              "    <tr>\n",
              "      <th>9939</th>\n",
              "      <td>18.310502</td>\n",
              "      <td>16</td>\n",
              "      <td>9</td>\n",
              "      <td>59.070191</td>\n",
              "      <td>0.392565</td>\n",
              "      <td>78.29</td>\n",
              "      <td>5</td>\n",
              "      <td>23487.729496</td>\n",
              "      <td>3</td>\n",
              "      <td>0.014991</td>\n",
              "      <td>1408</td>\n",
              "    </tr>\n",
              "    <tr>\n",
              "      <th>7925</th>\n",
              "      <td>38.812785</td>\n",
              "      <td>13</td>\n",
              "      <td>0</td>\n",
              "      <td>61.531449</td>\n",
              "      <td>0.424299</td>\n",
              "      <td>86.39</td>\n",
              "      <td>3</td>\n",
              "      <td>831.695553</td>\n",
              "      <td>3</td>\n",
              "      <td>0.047601</td>\n",
              "      <td>100</td>\n",
              "    </tr>\n",
              "    <tr>\n",
              "      <th>309</th>\n",
              "      <td>32.876712</td>\n",
              "      <td>15</td>\n",
              "      <td>7</td>\n",
              "      <td>57.748405</td>\n",
              "      <td>0.478392</td>\n",
              "      <td>78.85</td>\n",
              "      <td>5</td>\n",
              "      <td>33635.234643</td>\n",
              "      <td>2</td>\n",
              "      <td>0.023609</td>\n",
              "      <td>337</td>\n",
              "    </tr>\n",
              "    <tr>\n",
              "      <th>9415</th>\n",
              "      <td>28.219178</td>\n",
              "      <td>13</td>\n",
              "      <td>10</td>\n",
              "      <td>86.964448</td>\n",
              "      <td>0.289427</td>\n",
              "      <td>80.65</td>\n",
              "      <td>4</td>\n",
              "      <td>36065.208527</td>\n",
              "      <td>2</td>\n",
              "      <td>0.065909</td>\n",
              "      <td>7196</td>\n",
              "    </tr>\n",
              "  </tbody>\n",
              "</table>\n",
              "</div>"
            ],
            "text/plain": [
              "      Safety_Score  Days_Since_Inspection  ...  Adverse_Weather_Metric  Accident_ID\n",
              "3144     40.639269                      9  ...                1.263655         8159\n",
              "9939     18.310502                     16  ...                0.014991         1408\n",
              "7925     38.812785                     13  ...                0.047601          100\n",
              "309      32.876712                     15  ...                0.023609          337\n",
              "9415     28.219178                     13  ...                0.065909         7196\n",
              "\n",
              "[5 rows x 11 columns]"
            ]
          },
          "metadata": {
            "tags": []
          },
          "execution_count": 27
        }
      ]
    },
    {
      "cell_type": "markdown",
      "metadata": {
        "id": "GRWaB2EuP34r"
      },
      "source": [
        "build  logistic regression model"
      ]
    },
    {
      "cell_type": "code",
      "metadata": {
        "colab": {
          "base_uri": "https://localhost:8080/"
        },
        "id": "X4nImz0SPPuQ",
        "outputId": "6caa03fa-5984-466a-b035-b2dec9f1f9f6"
      },
      "source": [
        "clf_logreg.fit(X_train, y_train)"
      ],
      "execution_count": 28,
      "outputs": [
        {
          "output_type": "execute_result",
          "data": {
            "text/plain": [
              "Pipeline(memory=None,\n",
              "         steps=[('preprocessor',\n",
              "                 ColumnTransformer(n_jobs=None, remainder='drop',\n",
              "                                   sparse_threshold=0.3,\n",
              "                                   transformer_weights=None,\n",
              "                                   transformers=[('num',\n",
              "                                                  Pipeline(memory=None,\n",
              "                                                           steps=[('Imputer',\n",
              "                                                                   SimpleImputer(add_indicator=False,\n",
              "                                                                                 copy=True,\n",
              "                                                                                 fill_value=None,\n",
              "                                                                                 missing_values=nan,\n",
              "                                                                                 strategy='median',\n",
              "                                                                                 verbose=0)),\n",
              "                                                                  ('scaler',\n",
              "                                                                   StandardScaler(copy=True,\n",
              "                                                                                  with_mean...\n",
              "                                                                                 dtype=<class 'numpy.float64'>,\n",
              "                                                                                 handle_unknown='ignore',\n",
              "                                                                                 sparse=True))],\n",
              "                                                           verbose=False),\n",
              "                                                  [])],\n",
              "                                   verbose=False)),\n",
              "                ('classifier',\n",
              "                 LogisticRegression(C=1.0, class_weight=None, dual=False,\n",
              "                                    fit_intercept=True, intercept_scaling=1,\n",
              "                                    l1_ratio=None, max_iter=100,\n",
              "                                    multi_class='auto', n_jobs=None,\n",
              "                                    penalty='l2', random_state=None,\n",
              "                                    solver='lbfgs', tol=0.0001, verbose=0,\n",
              "                                    warm_start=False))],\n",
              "         verbose=False)"
            ]
          },
          "metadata": {
            "tags": []
          },
          "execution_count": 28
        }
      ]
    },
    {
      "cell_type": "markdown",
      "metadata": {
        "id": "179YD5EEQ9gQ"
      },
      "source": [
        "Evaluate model"
      ]
    },
    {
      "cell_type": "code",
      "metadata": {
        "colab": {
          "base_uri": "https://localhost:8080/"
        },
        "id": "YSRXIDxLP6dW",
        "outputId": "24d99ae5-d51e-467e-88d6-a39d9e2b83d5"
      },
      "source": [
        "train_pred = clf_logreg.predict(X_train)\r\n",
        "test_pred = clf_logreg.predict(X_test)\r\n",
        "\r\n",
        "print(\"Train_pred\",clf_logreg.score(X_train, y_train))\r\n",
        "print(\"Test_pred\",clf_logreg.score(X_test, y_test))\r\n",
        "\r\n",
        "score = 100*(f1_score(y_true = y_train, y_pred = train_pred, average=\"weighted\"))\r\n",
        "print(\"F1_score:\", score)"
      ],
      "execution_count": 32,
      "outputs": [
        {
          "output_type": "stream",
          "text": [
            "Train_pred 0.6454285714285715\n",
            "Test_pred 0.6263333333333333\n",
            "F1_score: 63.40572244827799\n"
          ],
          "name": "stdout"
        }
      ]
    },
    {
      "cell_type": "markdown",
      "metadata": {
        "id": "y30wH8wHUYE6"
      },
      "source": [
        "build Decision tree model"
      ]
    },
    {
      "cell_type": "code",
      "metadata": {
        "colab": {
          "base_uri": "https://localhost:8080/"
        },
        "id": "oapRiMjaRBet",
        "outputId": "62118c14-30a2-4a9e-cde2-cd0120f0d96d"
      },
      "source": [
        "%%time\r\n",
        "clf_dt = Pipeline(steps=[('preprocessor', preprocessor),\r\n",
        "                      ('classifier', DecisionTreeClassifier())])\r\n",
        "\r\n",
        "dt_param_grid = {'classifier__criterion': ['entropy', 'gini'], 'classifier__max_depth': [6,8,10,12], \r\n",
        "                 \"classifier__min_samples_split\": [2, 10, 20],\"classifier__min_samples_leaf\": [1, 5, 10]}\r\n",
        "\r\n",
        "dt_grid = GridSearchCV(clf_dt, param_grid=dt_param_grid, cv=5)\r\n",
        "\r\n",
        "dt_grid.fit(X_train,y_train)"
      ],
      "execution_count": 33,
      "outputs": [
        {
          "output_type": "stream",
          "text": [
            "CPU times: user 27.8 s, sys: 79.9 ms, total: 27.9 s\n",
            "Wall time: 27.9 s\n"
          ],
          "name": "stdout"
        }
      ]
    },
    {
      "cell_type": "code",
      "metadata": {
        "colab": {
          "base_uri": "https://localhost:8080/"
        },
        "id": "6cwDPHoeUeks",
        "outputId": "8f6c30ee-adde-4276-aa13-8e5d3090b1b5"
      },
      "source": [
        "dt_grid.best_params_"
      ],
      "execution_count": 34,
      "outputs": [
        {
          "output_type": "execute_result",
          "data": {
            "text/plain": [
              "{'classifier__criterion': 'entropy',\n",
              " 'classifier__max_depth': 12,\n",
              " 'classifier__min_samples_leaf': 1,\n",
              " 'classifier__min_samples_split': 2}"
            ]
          },
          "metadata": {
            "tags": []
          },
          "execution_count": 34
        }
      ]
    },
    {
      "cell_type": "code",
      "metadata": {
        "colab": {
          "base_uri": "https://localhost:8080/"
        },
        "id": "LXGWaHVTVZfw",
        "outputId": "f7e6ca80-d8a4-4484-ea12-a3bcc3420bb1"
      },
      "source": [
        "train_pred = dt_grid.predict(X_train)\r\n",
        "test_pred = dt_grid.predict(X_test)\r\n",
        "\r\n",
        "print(dt_grid.score(X_train, y_train))\r\n",
        "print(dt_grid.score(X_test, y_test))"
      ],
      "execution_count": 35,
      "outputs": [
        {
          "output_type": "stream",
          "text": [
            "0.9891428571428571\n",
            "0.9336666666666666\n"
          ],
          "name": "stdout"
        }
      ]
    },
    {
      "cell_type": "code",
      "metadata": {
        "colab": {
          "base_uri": "https://localhost:8080/"
        },
        "id": "D9T1AIO7Velx",
        "outputId": "cf8ad066-8179-4e99-c6bc-082cbd778317"
      },
      "source": [
        "score_1 = 100*(f1_score(y_true = y_train, y_pred = train_pred, average = 'weighted'))\r\n",
        "print(\"F1_score :\",score_1)"
      ],
      "execution_count": 36,
      "outputs": [
        {
          "output_type": "stream",
          "text": [
            "F1_score : 98.91530706099607\n"
          ],
          "name": "stdout"
        }
      ]
    },
    {
      "cell_type": "markdown",
      "metadata": {
        "id": "-vJEIYp3VuiP"
      },
      "source": [
        "Build Random Forest Model - 3_ (Using Stratified KFold)\r\n",
        "\r\n",
        "__Stratified K-Folds cross-validator__\r\n",
        "\r\n",
        "This cross-validation object is a **variation** of KFold that returns stratified folds. The folds are made by **preserving the percentage of samples for each class**."
      ]
    },
    {
      "cell_type": "code",
      "metadata": {
        "id": "NxIqDcxOVkxU"
      },
      "source": [
        "clf = Pipeline(steps=[('preprocessor', preprocessor),\r\n",
        "                      ('classifier', RandomForestClassifier())])\r\n"
      ],
      "execution_count": 39,
      "outputs": []
    },
    {
      "cell_type": "code",
      "metadata": {
        "id": "-NxMhFXLVvOi"
      },
      "source": [
        "kfold = StratifiedKFold(n_splits=5, shuffle=True, random_state=143)\r\n",
        "\r\n",
        "param_grid = {\"classifier__n_estimators\" : [150, 250, 300],\r\n",
        "              \"classifier__max_depth\" : [5,8,10],\r\n",
        "              \"classifier__max_features\" : [3, 5, 7],\r\n",
        "              \"classifier__min_samples_leaf\" : [4, 6, 8, 10]}\r\n",
        "\r\n",
        "rf_grid = GridSearchCV(clf, param_grid= param_grid, cv=kfold)"
      ],
      "execution_count": 40,
      "outputs": []
    },
    {
      "cell_type": "code",
      "metadata": {
        "colab": {
          "base_uri": "https://localhost:8080/"
        },
        "id": "gF_I6yCmXPuT",
        "outputId": "45cf2b2b-e93f-4c33-f087-8d5fef50a44c"
      },
      "source": [
        "%%time\r\n",
        "rf_grid.fit(X_train,y_train)"
      ],
      "execution_count": 41,
      "outputs": [
        {
          "output_type": "stream",
          "text": [
            "CPU times: user 25min 27s, sys: 1.86 s, total: 25min 28s\n",
            "Wall time: 25min 35s\n"
          ],
          "name": "stdout"
        },
        {
          "output_type": "execute_result",
          "data": {
            "text/plain": [
              "GridSearchCV(cv=StratifiedKFold(n_splits=5, random_state=143, shuffle=True),\n",
              "             error_score=nan,\n",
              "             estimator=Pipeline(memory=None,\n",
              "                                steps=[('preprocessor',\n",
              "                                        ColumnTransformer(n_jobs=None,\n",
              "                                                          remainder='drop',\n",
              "                                                          sparse_threshold=0.3,\n",
              "                                                          transformer_weights=None,\n",
              "                                                          transformers=[('num',\n",
              "                                                                         Pipeline(memory=None,\n",
              "                                                                                  steps=[('Imputer',\n",
              "                                                                                          SimpleImputer(add_indicator=False,\n",
              "                                                                                                        copy=True,\n",
              "                                                                                                        fill_valu...\n",
              "                                                               oob_score=False,\n",
              "                                                               random_state=None,\n",
              "                                                               verbose=0,\n",
              "                                                               warm_start=False))],\n",
              "                                verbose=False),\n",
              "             iid='deprecated', n_jobs=None,\n",
              "             param_grid={'classifier__max_depth': [5, 8, 10],\n",
              "                         'classifier__max_features': [3, 5, 7],\n",
              "                         'classifier__min_samples_leaf': [4, 6, 8, 10],\n",
              "                         'classifier__n_estimators': [150, 250, 300]},\n",
              "             pre_dispatch='2*n_jobs', refit=True, return_train_score=False,\n",
              "             scoring=None, verbose=0)"
            ]
          },
          "metadata": {
            "tags": []
          },
          "execution_count": 41
        }
      ]
    },
    {
      "cell_type": "code",
      "metadata": {
        "colab": {
          "base_uri": "https://localhost:8080/"
        },
        "id": "rA6JQrWKXV7w",
        "outputId": "fdd01e17-129b-4a8b-a4a7-83b48a409402"
      },
      "source": [
        "rf_grid.best_params_"
      ],
      "execution_count": 42,
      "outputs": [
        {
          "output_type": "execute_result",
          "data": {
            "text/plain": [
              "{'classifier__max_depth': 10,\n",
              " 'classifier__max_features': 7,\n",
              " 'classifier__min_samples_leaf': 4,\n",
              " 'classifier__n_estimators': 150}"
            ]
          },
          "metadata": {
            "tags": []
          },
          "execution_count": 42
        }
      ]
    },
    {
      "cell_type": "code",
      "metadata": {
        "colab": {
          "base_uri": "https://localhost:8080/"
        },
        "id": "1wc_VHM0dzSN",
        "outputId": "85131328-0cf3-4c89-d4f6-f5c76cd4e651"
      },
      "source": [
        "train_pred = rf_grid.predict(X_train)\r\n",
        "test_pred = rf_grid.predict(X_test)\r\n",
        "\r\n",
        "print(rf_grid.score(X_train, y_train))\r\n",
        "print(rf_grid.score(X_test, y_test))\r\n",
        "\r\n",
        "score_2 = 100*(f1_score(y_true = y_train, y_pred = train_pred, average = 'weighted'))\r\n",
        "print(\"F1_score :\",score_2)"
      ],
      "execution_count": 43,
      "outputs": [
        {
          "output_type": "stream",
          "text": [
            "0.9597142857142857\n",
            "0.9226666666666666\n",
            "F1_score : 95.97875521188777\n"
          ],
          "name": "stdout"
        }
      ]
    },
    {
      "cell_type": "markdown",
      "metadata": {
        "id": "draGHTB9d_Hg"
      },
      "source": [
        "Build Gradient Boosting - 4"
      ]
    },
    {
      "cell_type": "code",
      "metadata": {
        "id": "fGSOOLCNd4g_"
      },
      "source": [
        "clf = Pipeline(steps=[('preprocessor', preprocessor),\r\n",
        "                      ('GBM',GradientBoostingClassifier())])"
      ],
      "execution_count": 44,
      "outputs": []
    },
    {
      "cell_type": "code",
      "metadata": {
        "colab": {
          "base_uri": "https://localhost:8080/"
        },
        "id": "ruNN1DmKeDV-",
        "outputId": "eb8dd8b7-5f96-421b-8757-c106ecedf644"
      },
      "source": [
        "%%time\r\n",
        "gbm_param_grid = {'GBM__max_depth': [8,10,12,14], 'GBM__subsample': [0.8, 0.6,], 'GBM__max_features':[0.2, 0.3], \r\n",
        "              'GBM__n_estimators': [10, 20, 30]}\r\n",
        "\r\n",
        "gbm_grid = GridSearchCV(clf, param_grid=gbm_param_grid, cv=3)\r\n",
        "\r\n",
        "gbm_grid.fit(X_train,y_train)"
      ],
      "execution_count": 45,
      "outputs": [
        {
          "output_type": "stream",
          "text": [
            "CPU times: user 5min 5s, sys: 102 ms, total: 5min 5s\n",
            "Wall time: 5min 6s\n"
          ],
          "name": "stdout"
        }
      ]
    },
    {
      "cell_type": "code",
      "metadata": {
        "colab": {
          "base_uri": "https://localhost:8080/"
        },
        "id": "XYCxl94TeGxV",
        "outputId": "a9f1ae8c-0bd0-4469-bc4c-7c74ee2eb21f"
      },
      "source": [
        "gbm_grid.best_params_"
      ],
      "execution_count": 46,
      "outputs": [
        {
          "output_type": "execute_result",
          "data": {
            "text/plain": [
              "{'GBM__max_depth': 10,\n",
              " 'GBM__max_features': 0.3,\n",
              " 'GBM__n_estimators': 30,\n",
              " 'GBM__subsample': 0.8}"
            ]
          },
          "metadata": {
            "tags": []
          },
          "execution_count": 46
        }
      ]
    },
    {
      "cell_type": "code",
      "metadata": {
        "colab": {
          "base_uri": "https://localhost:8080/"
        },
        "id": "XCgdLTYCgaX1",
        "outputId": "d67a8a93-0f13-467e-f6db-18227024a34c"
      },
      "source": [
        "train_pred = gbm_grid.predict(X_train)\r\n",
        "test_pred = gbm_grid.predict(X_test)\r\n",
        "\r\n",
        "print(gbm_grid.score(X_train, y_train))\r\n",
        "print(gbm_grid.score(X_test, y_test))\r\n",
        "\r\n",
        "score_3 = 100*(f1_score(y_true = y_train, y_pred = train_pred, average = 'weighted'))\r\n",
        "print(\"F1_score :\",score_3)"
      ],
      "execution_count": 47,
      "outputs": [
        {
          "output_type": "stream",
          "text": [
            "0.9998571428571429\n",
            "0.906\n",
            "F1_score : 99.98571410501515\n"
          ],
          "name": "stdout"
        }
      ]
    },
    {
      "cell_type": "code",
      "metadata": {
        "id": "-ItBYm2TggF_"
      },
      "source": [
        "rf1 = RandomForestClassifier(n_estimators=10)"
      ],
      "execution_count": 48,
      "outputs": []
    },
    {
      "cell_type": "code",
      "metadata": {
        "colab": {
          "base_uri": "https://localhost:8080/"
        },
        "id": "gvPis_2vgk-E",
        "outputId": "2b24e510-dfa3-4b41-a8c8-e4ef3e93594b"
      },
      "source": [
        "rf1.fit(X_train,y_train)\r\n"
      ],
      "execution_count": 49,
      "outputs": [
        {
          "output_type": "execute_result",
          "data": {
            "text/plain": [
              "RandomForestClassifier(bootstrap=True, ccp_alpha=0.0, class_weight=None,\n",
              "                       criterion='gini', max_depth=None, max_features='auto',\n",
              "                       max_leaf_nodes=None, max_samples=None,\n",
              "                       min_impurity_decrease=0.0, min_impurity_split=None,\n",
              "                       min_samples_leaf=1, min_samples_split=2,\n",
              "                       min_weight_fraction_leaf=0.0, n_estimators=10,\n",
              "                       n_jobs=None, oob_score=False, random_state=None,\n",
              "                       verbose=0, warm_start=False)"
            ]
          },
          "metadata": {
            "tags": []
          },
          "execution_count": 49
        }
      ]
    },
    {
      "cell_type": "code",
      "metadata": {
        "id": "67QD05mmgoB3"
      },
      "source": [
        "y_pred=rf1.predict(X_test)"
      ],
      "execution_count": 50,
      "outputs": []
    },
    {
      "cell_type": "code",
      "metadata": {
        "id": "VFaIKS6ygsAx"
      },
      "source": [
        "from sklearn.metrics import classification_report,confusion_matrix,accuracy_score,f1_score\r\n"
      ],
      "execution_count": 51,
      "outputs": []
    },
    {
      "cell_type": "code",
      "metadata": {
        "colab": {
          "base_uri": "https://localhost:8080/"
        },
        "id": "sYv85yOUgu8l",
        "outputId": "0514e5f7-65fb-473a-ebf9-3ac7b046ac68"
      },
      "source": [
        "y_train_pred=rf1.predict(X_train)\r\n",
        "print(\"F1_Score for Train:\",f1_score(y_train,y_train_pred,average='macro'))"
      ],
      "execution_count": 52,
      "outputs": [
        {
          "output_type": "stream",
          "text": [
            "F1_Score for Train: 0.9973643218707838\n"
          ],
          "name": "stdout"
        }
      ]
    },
    {
      "cell_type": "code",
      "metadata": {
        "colab": {
          "base_uri": "https://localhost:8080/"
        },
        "id": "z1tzR9uJgxxA",
        "outputId": "f09ae4ef-4878-4b96-d00e-1714489fddab"
      },
      "source": [
        "print(\"Accuracy :\",accuracy_score(y_test,y_pred))"
      ],
      "execution_count": 53,
      "outputs": [
        {
          "output_type": "stream",
          "text": [
            "Accuracy : 0.8403333333333334\n"
          ],
          "name": "stdout"
        }
      ]
    },
    {
      "cell_type": "code",
      "metadata": {
        "id": "B93AcFPRg2aZ"
      },
      "source": [
        "sub=rf1.predict(test_data)"
      ],
      "execution_count": 54,
      "outputs": []
    },
    {
      "cell_type": "code",
      "metadata": {
        "id": "8ceG20EOg5yf"
      },
      "source": [
        "final= pd.DataFrame({'Accident_ID' : test_data['Accident_ID'],\r\n",
        "                     'Severity' : sub})"
      ],
      "execution_count": 55,
      "outputs": []
    },
    {
      "cell_type": "code",
      "metadata": {
        "colab": {
          "base_uri": "https://localhost:8080/"
        },
        "id": "cRQ_j_sqg8YQ",
        "outputId": "be2ce813-9e4f-4ccc-b411-2edfcfe32738"
      },
      "source": [
        "final.to_csv(\"submission_copy2.csv\",index=False)\r\n",
        "final.shape"
      ],
      "execution_count": 56,
      "outputs": [
        {
          "output_type": "execute_result",
          "data": {
            "text/plain": [
              "(2500, 2)"
            ]
          },
          "metadata": {
            "tags": []
          },
          "execution_count": 56
        }
      ]
    },
    {
      "cell_type": "code",
      "metadata": {
        "id": "l2_JmZkBhBoC"
      },
      "source": [
        ""
      ],
      "execution_count": null,
      "outputs": []
    }
  ]
}