{
  "nbformat": 4,
  "nbformat_minor": 0,
  "metadata": {
    "colab": {
      "name": "Airplane_Accidient_final .ipynb",
      "provenance": [],
      "collapsed_sections": []
    },
    "kernelspec": {
      "name": "python3",
      "display_name": "Python 3"
    }
  },
  "cells": [
    {
      "cell_type": "code",
      "metadata": {
        "colab": {
          "base_uri": "https://localhost:8080/"
        },
        "id": "MDQA4NVReiiu",
        "outputId": "140fdc56-36c2-4ae5-84f9-a799ecd91ffb"
      },
      "source": [
        "from google.colab import drive\n",
        "drive.mount('/gdrive')"
      ],
      "execution_count": 1,
      "outputs": [
        {
          "output_type": "stream",
          "text": [
            "Mounted at /gdrive\n"
          ],
          "name": "stdout"
        }
      ]
    },
    {
      "cell_type": "code",
      "metadata": {
        "id": "tdgqKClaeiiw"
      },
      "source": [
        "with open('/gdrive/My Drive/foo.txt', 'w') as f:\n",
        "  f.write('Hello Google Drive!')\n",
        "!cat '/gdrive/My Drive/foo.txt'"
      ],
      "execution_count": null,
      "outputs": []
    },
    {
      "cell_type": "markdown",
      "metadata": {
        "id": "YZm1CalrewU3"
      },
      "source": [
        "Importing libraries"
      ]
    },
    {
      "cell_type": "code",
      "metadata": {
        "id": "bCC9-37MdXxZ"
      },
      "source": [
        "import os\r\n",
        "import pandas as pd \r\n",
        "import numpy as np\r\n",
        "from datetime import datetime\r\n",
        "from sklearn import metrics\r\n",
        "from sklearn.metrics import classification_report     \r\n",
        "from sklearn.metrics import confusion_matrix     \r\n",
        "from sklearn.preprocessing import StandardScaler  # Helps us in Standardizing the data\r\n",
        "from sklearn.model_selection import train_test_split\r\n",
        "from sklearn.model_selection import train_test_split, GridSearchCV\r\n",
        "from sklearn.ensemble import RandomForestClassifier, AdaBoostClassifier\r\n",
        "from sklearn.tree import DecisionTreeClassifier\r\n",
        "from sklearn.ensemble import VotingClassifier\r\n",
        "from sklearn.ensemble import BaggingClassifier\r\n",
        "from xgboost import XGBClassifier\r\n",
        "from sklearn.svm import SVC\r\n",
        "from sklearn.linear_model import LogisticRegression\r\n",
        "from sklearn import preprocessing\r\n",
        "from sklearn.metrics import accuracy_score,recall_score,precision_score"
      ],
      "execution_count": 2,
      "outputs": []
    },
    {
      "cell_type": "code",
      "metadata": {
        "id": "04cq7F3jfFTo"
      },
      "source": [
        "test_data = pd.read_csv(\"/gdrive/MyDrive/Kaggle data sets/Airplane_Accident_Master/test.csv\")\r\n",
        "train_data = pd.read_csv(\"/gdrive/MyDrive/Kaggle data sets/Airplane_Accident_Master/train.csv\")"
      ],
      "execution_count": 7,
      "outputs": []
    },
    {
      "cell_type": "code",
      "metadata": {
        "colab": {
          "base_uri": "https://localhost:8080/",
          "height": 224
        },
        "id": "O_65rgQGhwTp",
        "outputId": "82e6c8f5-5b6c-4719-b23e-db73a92cce4b"
      },
      "source": [
        "train_data.head()"
      ],
      "execution_count": 8,
      "outputs": [
        {
          "output_type": "execute_result",
          "data": {
            "text/html": [
              "<div>\n",
              "<style scoped>\n",
              "    .dataframe tbody tr th:only-of-type {\n",
              "        vertical-align: middle;\n",
              "    }\n",
              "\n",
              "    .dataframe tbody tr th {\n",
              "        vertical-align: top;\n",
              "    }\n",
              "\n",
              "    .dataframe thead th {\n",
              "        text-align: right;\n",
              "    }\n",
              "</style>\n",
              "<table border=\"1\" class=\"dataframe\">\n",
              "  <thead>\n",
              "    <tr style=\"text-align: right;\">\n",
              "      <th></th>\n",
              "      <th>Severity</th>\n",
              "      <th>Safety_Score</th>\n",
              "      <th>Days_Since_Inspection</th>\n",
              "      <th>Total_Safety_Complaints</th>\n",
              "      <th>Control_Metric</th>\n",
              "      <th>Turbulence_In_gforces</th>\n",
              "      <th>Cabin_Temperature</th>\n",
              "      <th>Accident_Type_Code</th>\n",
              "      <th>Max_Elevation</th>\n",
              "      <th>Violations</th>\n",
              "      <th>Adverse_Weather_Metric</th>\n",
              "      <th>Accident_ID</th>\n",
              "    </tr>\n",
              "  </thead>\n",
              "  <tbody>\n",
              "    <tr>\n",
              "      <th>0</th>\n",
              "      <td>Minor_Damage_And_Injuries</td>\n",
              "      <td>49.223744</td>\n",
              "      <td>14</td>\n",
              "      <td>22</td>\n",
              "      <td>71.285324</td>\n",
              "      <td>0.272118</td>\n",
              "      <td>78.04</td>\n",
              "      <td>2</td>\n",
              "      <td>31335.476824</td>\n",
              "      <td>3</td>\n",
              "      <td>0.424352</td>\n",
              "      <td>7570</td>\n",
              "    </tr>\n",
              "    <tr>\n",
              "      <th>1</th>\n",
              "      <td>Minor_Damage_And_Injuries</td>\n",
              "      <td>62.465753</td>\n",
              "      <td>10</td>\n",
              "      <td>27</td>\n",
              "      <td>72.288058</td>\n",
              "      <td>0.423939</td>\n",
              "      <td>84.54</td>\n",
              "      <td>2</td>\n",
              "      <td>26024.711057</td>\n",
              "      <td>2</td>\n",
              "      <td>0.352350</td>\n",
              "      <td>12128</td>\n",
              "    </tr>\n",
              "    <tr>\n",
              "      <th>2</th>\n",
              "      <td>Significant_Damage_And_Fatalities</td>\n",
              "      <td>63.059361</td>\n",
              "      <td>13</td>\n",
              "      <td>16</td>\n",
              "      <td>66.362808</td>\n",
              "      <td>0.322604</td>\n",
              "      <td>78.86</td>\n",
              "      <td>7</td>\n",
              "      <td>39269.053927</td>\n",
              "      <td>3</td>\n",
              "      <td>0.003364</td>\n",
              "      <td>2181</td>\n",
              "    </tr>\n",
              "    <tr>\n",
              "      <th>3</th>\n",
              "      <td>Significant_Damage_And_Serious_Injuries</td>\n",
              "      <td>48.082192</td>\n",
              "      <td>11</td>\n",
              "      <td>9</td>\n",
              "      <td>74.703737</td>\n",
              "      <td>0.337029</td>\n",
              "      <td>81.79</td>\n",
              "      <td>3</td>\n",
              "      <td>42771.499200</td>\n",
              "      <td>1</td>\n",
              "      <td>0.211728</td>\n",
              "      <td>5946</td>\n",
              "    </tr>\n",
              "    <tr>\n",
              "      <th>4</th>\n",
              "      <td>Significant_Damage_And_Fatalities</td>\n",
              "      <td>26.484018</td>\n",
              "      <td>13</td>\n",
              "      <td>25</td>\n",
              "      <td>47.948952</td>\n",
              "      <td>0.541140</td>\n",
              "      <td>77.16</td>\n",
              "      <td>3</td>\n",
              "      <td>35509.228515</td>\n",
              "      <td>2</td>\n",
              "      <td>0.176883</td>\n",
              "      <td>9054</td>\n",
              "    </tr>\n",
              "  </tbody>\n",
              "</table>\n",
              "</div>"
            ],
            "text/plain": [
              "                                  Severity  ...  Accident_ID\n",
              "0                Minor_Damage_And_Injuries  ...         7570\n",
              "1                Minor_Damage_And_Injuries  ...        12128\n",
              "2        Significant_Damage_And_Fatalities  ...         2181\n",
              "3  Significant_Damage_And_Serious_Injuries  ...         5946\n",
              "4        Significant_Damage_And_Fatalities  ...         9054\n",
              "\n",
              "[5 rows x 12 columns]"
            ]
          },
          "metadata": {
            "tags": []
          },
          "execution_count": 8
        }
      ]
    },
    {
      "cell_type": "code",
      "metadata": {
        "colab": {
          "base_uri": "https://localhost:8080/",
          "height": 224
        },
        "id": "eZlkmF7LjBYr",
        "outputId": "470ba2d8-47f8-4022-9aa7-3de361c1d14a"
      },
      "source": [
        "test_data.head()"
      ],
      "execution_count": 9,
      "outputs": [
        {
          "output_type": "execute_result",
          "data": {
            "text/html": [
              "<div>\n",
              "<style scoped>\n",
              "    .dataframe tbody tr th:only-of-type {\n",
              "        vertical-align: middle;\n",
              "    }\n",
              "\n",
              "    .dataframe tbody tr th {\n",
              "        vertical-align: top;\n",
              "    }\n",
              "\n",
              "    .dataframe thead th {\n",
              "        text-align: right;\n",
              "    }\n",
              "</style>\n",
              "<table border=\"1\" class=\"dataframe\">\n",
              "  <thead>\n",
              "    <tr style=\"text-align: right;\">\n",
              "      <th></th>\n",
              "      <th>Safety_Score</th>\n",
              "      <th>Days_Since_Inspection</th>\n",
              "      <th>Total_Safety_Complaints</th>\n",
              "      <th>Control_Metric</th>\n",
              "      <th>Turbulence_In_gforces</th>\n",
              "      <th>Cabin_Temperature</th>\n",
              "      <th>Accident_Type_Code</th>\n",
              "      <th>Max_Elevation</th>\n",
              "      <th>Violations</th>\n",
              "      <th>Adverse_Weather_Metric</th>\n",
              "      <th>Accident_ID</th>\n",
              "    </tr>\n",
              "  </thead>\n",
              "  <tbody>\n",
              "    <tr>\n",
              "      <th>0</th>\n",
              "      <td>19.497717</td>\n",
              "      <td>16</td>\n",
              "      <td>6</td>\n",
              "      <td>72.151322</td>\n",
              "      <td>0.388959</td>\n",
              "      <td>78.32</td>\n",
              "      <td>4</td>\n",
              "      <td>37949.724386</td>\n",
              "      <td>2</td>\n",
              "      <td>0.069692</td>\n",
              "      <td>1</td>\n",
              "    </tr>\n",
              "    <tr>\n",
              "      <th>1</th>\n",
              "      <td>58.173516</td>\n",
              "      <td>15</td>\n",
              "      <td>3</td>\n",
              "      <td>64.585232</td>\n",
              "      <td>0.250841</td>\n",
              "      <td>78.60</td>\n",
              "      <td>7</td>\n",
              "      <td>30194.805567</td>\n",
              "      <td>2</td>\n",
              "      <td>0.002777</td>\n",
              "      <td>10</td>\n",
              "    </tr>\n",
              "    <tr>\n",
              "      <th>2</th>\n",
              "      <td>33.287671</td>\n",
              "      <td>15</td>\n",
              "      <td>3</td>\n",
              "      <td>64.721969</td>\n",
              "      <td>0.336669</td>\n",
              "      <td>86.96</td>\n",
              "      <td>6</td>\n",
              "      <td>17572.925484</td>\n",
              "      <td>1</td>\n",
              "      <td>0.004316</td>\n",
              "      <td>14</td>\n",
              "    </tr>\n",
              "    <tr>\n",
              "      <th>3</th>\n",
              "      <td>3.287671</td>\n",
              "      <td>21</td>\n",
              "      <td>5</td>\n",
              "      <td>66.362808</td>\n",
              "      <td>0.421775</td>\n",
              "      <td>80.86</td>\n",
              "      <td>3</td>\n",
              "      <td>40209.186341</td>\n",
              "      <td>2</td>\n",
              "      <td>0.199990</td>\n",
              "      <td>17</td>\n",
              "    </tr>\n",
              "    <tr>\n",
              "      <th>4</th>\n",
              "      <td>10.867580</td>\n",
              "      <td>18</td>\n",
              "      <td>2</td>\n",
              "      <td>56.107566</td>\n",
              "      <td>0.313228</td>\n",
              "      <td>79.22</td>\n",
              "      <td>2</td>\n",
              "      <td>35495.525408</td>\n",
              "      <td>2</td>\n",
              "      <td>0.483696</td>\n",
              "      <td>21</td>\n",
              "    </tr>\n",
              "  </tbody>\n",
              "</table>\n",
              "</div>"
            ],
            "text/plain": [
              "   Safety_Score  Days_Since_Inspection  ...  Adverse_Weather_Metric  Accident_ID\n",
              "0     19.497717                     16  ...                0.069692            1\n",
              "1     58.173516                     15  ...                0.002777           10\n",
              "2     33.287671                     15  ...                0.004316           14\n",
              "3      3.287671                     21  ...                0.199990           17\n",
              "4     10.867580                     18  ...                0.483696           21\n",
              "\n",
              "[5 rows x 11 columns]"
            ]
          },
          "metadata": {
            "tags": []
          },
          "execution_count": 9
        }
      ]
    },
    {
      "cell_type": "code",
      "metadata": {
        "colab": {
          "base_uri": "https://localhost:8080/"
        },
        "id": "EJ5sEM5CjD5U",
        "outputId": "94185adf-8fdc-4389-bcd8-1a37018047df"
      },
      "source": [
        "train_data.isnull().sum()"
      ],
      "execution_count": 11,
      "outputs": [
        {
          "output_type": "execute_result",
          "data": {
            "text/plain": [
              "Severity                   0\n",
              "Safety_Score               0\n",
              "Days_Since_Inspection      0\n",
              "Total_Safety_Complaints    0\n",
              "Control_Metric             0\n",
              "Turbulence_In_gforces      0\n",
              "Cabin_Temperature          0\n",
              "Accident_Type_Code         0\n",
              "Max_Elevation              0\n",
              "Violations                 0\n",
              "Adverse_Weather_Metric     0\n",
              "Accident_ID                0\n",
              "dtype: int64"
            ]
          },
          "metadata": {
            "tags": []
          },
          "execution_count": 11
        }
      ]
    },
    {
      "cell_type": "code",
      "metadata": {
        "colab": {
          "base_uri": "https://localhost:8080/",
          "height": 317
        },
        "id": "8PY6lveTjG1r",
        "outputId": "8b0eed62-acba-4665-c116-1b33590acd70"
      },
      "source": [
        "train_data.describe()"
      ],
      "execution_count": 12,
      "outputs": [
        {
          "output_type": "execute_result",
          "data": {
            "text/html": [
              "<div>\n",
              "<style scoped>\n",
              "    .dataframe tbody tr th:only-of-type {\n",
              "        vertical-align: middle;\n",
              "    }\n",
              "\n",
              "    .dataframe tbody tr th {\n",
              "        vertical-align: top;\n",
              "    }\n",
              "\n",
              "    .dataframe thead th {\n",
              "        text-align: right;\n",
              "    }\n",
              "</style>\n",
              "<table border=\"1\" class=\"dataframe\">\n",
              "  <thead>\n",
              "    <tr style=\"text-align: right;\">\n",
              "      <th></th>\n",
              "      <th>Safety_Score</th>\n",
              "      <th>Days_Since_Inspection</th>\n",
              "      <th>Total_Safety_Complaints</th>\n",
              "      <th>Control_Metric</th>\n",
              "      <th>Turbulence_In_gforces</th>\n",
              "      <th>Cabin_Temperature</th>\n",
              "      <th>Accident_Type_Code</th>\n",
              "      <th>Max_Elevation</th>\n",
              "      <th>Violations</th>\n",
              "      <th>Adverse_Weather_Metric</th>\n",
              "      <th>Accident_ID</th>\n",
              "    </tr>\n",
              "  </thead>\n",
              "  <tbody>\n",
              "    <tr>\n",
              "      <th>count</th>\n",
              "      <td>10000.000000</td>\n",
              "      <td>10000.000000</td>\n",
              "      <td>10000.000000</td>\n",
              "      <td>10000.000000</td>\n",
              "      <td>10000.000000</td>\n",
              "      <td>10000.000000</td>\n",
              "      <td>10000.000000</td>\n",
              "      <td>10000.000000</td>\n",
              "      <td>10000.00000</td>\n",
              "      <td>10000.000000</td>\n",
              "      <td>10000.000000</td>\n",
              "    </tr>\n",
              "    <tr>\n",
              "      <th>mean</th>\n",
              "      <td>41.876406</td>\n",
              "      <td>12.931100</td>\n",
              "      <td>6.564300</td>\n",
              "      <td>65.145324</td>\n",
              "      <td>0.381495</td>\n",
              "      <td>79.969331</td>\n",
              "      <td>3.814900</td>\n",
              "      <td>32001.803282</td>\n",
              "      <td>2.01220</td>\n",
              "      <td>0.255635</td>\n",
              "      <td>6266.554200</td>\n",
              "    </tr>\n",
              "    <tr>\n",
              "      <th>std</th>\n",
              "      <td>16.138072</td>\n",
              "      <td>3.539803</td>\n",
              "      <td>6.971982</td>\n",
              "      <td>11.882934</td>\n",
              "      <td>0.121301</td>\n",
              "      <td>2.759739</td>\n",
              "      <td>1.902577</td>\n",
              "      <td>9431.995196</td>\n",
              "      <td>1.03998</td>\n",
              "      <td>0.381128</td>\n",
              "      <td>3610.170288</td>\n",
              "    </tr>\n",
              "    <tr>\n",
              "      <th>min</th>\n",
              "      <td>0.000000</td>\n",
              "      <td>1.000000</td>\n",
              "      <td>0.000000</td>\n",
              "      <td>0.000000</td>\n",
              "      <td>0.134000</td>\n",
              "      <td>74.740000</td>\n",
              "      <td>1.000000</td>\n",
              "      <td>831.695553</td>\n",
              "      <td>0.00000</td>\n",
              "      <td>0.000316</td>\n",
              "      <td>2.000000</td>\n",
              "    </tr>\n",
              "    <tr>\n",
              "      <th>25%</th>\n",
              "      <td>30.593607</td>\n",
              "      <td>11.000000</td>\n",
              "      <td>2.000000</td>\n",
              "      <td>56.927985</td>\n",
              "      <td>0.293665</td>\n",
              "      <td>77.960000</td>\n",
              "      <td>2.000000</td>\n",
              "      <td>25757.636908</td>\n",
              "      <td>1.00000</td>\n",
              "      <td>0.012063</td>\n",
              "      <td>3139.750000</td>\n",
              "    </tr>\n",
              "    <tr>\n",
              "      <th>50%</th>\n",
              "      <td>41.278539</td>\n",
              "      <td>13.000000</td>\n",
              "      <td>4.000000</td>\n",
              "      <td>65.587967</td>\n",
              "      <td>0.365879</td>\n",
              "      <td>79.540000</td>\n",
              "      <td>4.000000</td>\n",
              "      <td>32060.336419</td>\n",
              "      <td>2.00000</td>\n",
              "      <td>0.074467</td>\n",
              "      <td>6280.500000</td>\n",
              "    </tr>\n",
              "    <tr>\n",
              "      <th>75%</th>\n",
              "      <td>52.511416</td>\n",
              "      <td>15.000000</td>\n",
              "      <td>9.000000</td>\n",
              "      <td>73.336372</td>\n",
              "      <td>0.451346</td>\n",
              "      <td>81.560000</td>\n",
              "      <td>5.000000</td>\n",
              "      <td>38380.641513</td>\n",
              "      <td>3.00000</td>\n",
              "      <td>0.354059</td>\n",
              "      <td>9391.500000</td>\n",
              "    </tr>\n",
              "    <tr>\n",
              "      <th>max</th>\n",
              "      <td>100.000000</td>\n",
              "      <td>23.000000</td>\n",
              "      <td>54.000000</td>\n",
              "      <td>100.000000</td>\n",
              "      <td>0.882648</td>\n",
              "      <td>97.510000</td>\n",
              "      <td>7.000000</td>\n",
              "      <td>64297.651218</td>\n",
              "      <td>5.00000</td>\n",
              "      <td>2.365378</td>\n",
              "      <td>12500.000000</td>\n",
              "    </tr>\n",
              "  </tbody>\n",
              "</table>\n",
              "</div>"
            ],
            "text/plain": [
              "       Safety_Score  ...   Accident_ID\n",
              "count  10000.000000  ...  10000.000000\n",
              "mean      41.876406  ...   6266.554200\n",
              "std       16.138072  ...   3610.170288\n",
              "min        0.000000  ...      2.000000\n",
              "25%       30.593607  ...   3139.750000\n",
              "50%       41.278539  ...   6280.500000\n",
              "75%       52.511416  ...   9391.500000\n",
              "max      100.000000  ...  12500.000000\n",
              "\n",
              "[8 rows x 11 columns]"
            ]
          },
          "metadata": {
            "tags": []
          },
          "execution_count": 12
        }
      ]
    },
    {
      "cell_type": "code",
      "metadata": {
        "colab": {
          "base_uri": "https://localhost:8080/",
          "height": 224
        },
        "id": "feuCqmwmjOqN",
        "outputId": "a88a601f-3932-4ffb-f68a-5d57037694f2"
      },
      "source": [
        "train_data.tail()"
      ],
      "execution_count": 13,
      "outputs": [
        {
          "output_type": "execute_result",
          "data": {
            "text/html": [
              "<div>\n",
              "<style scoped>\n",
              "    .dataframe tbody tr th:only-of-type {\n",
              "        vertical-align: middle;\n",
              "    }\n",
              "\n",
              "    .dataframe tbody tr th {\n",
              "        vertical-align: top;\n",
              "    }\n",
              "\n",
              "    .dataframe thead th {\n",
              "        text-align: right;\n",
              "    }\n",
              "</style>\n",
              "<table border=\"1\" class=\"dataframe\">\n",
              "  <thead>\n",
              "    <tr style=\"text-align: right;\">\n",
              "      <th></th>\n",
              "      <th>Severity</th>\n",
              "      <th>Safety_Score</th>\n",
              "      <th>Days_Since_Inspection</th>\n",
              "      <th>Total_Safety_Complaints</th>\n",
              "      <th>Control_Metric</th>\n",
              "      <th>Turbulence_In_gforces</th>\n",
              "      <th>Cabin_Temperature</th>\n",
              "      <th>Accident_Type_Code</th>\n",
              "      <th>Max_Elevation</th>\n",
              "      <th>Violations</th>\n",
              "      <th>Adverse_Weather_Metric</th>\n",
              "      <th>Accident_ID</th>\n",
              "    </tr>\n",
              "  </thead>\n",
              "  <tbody>\n",
              "    <tr>\n",
              "      <th>9995</th>\n",
              "      <td>Significant_Damage_And_Serious_Injuries</td>\n",
              "      <td>56.118721</td>\n",
              "      <td>8</td>\n",
              "      <td>1</td>\n",
              "      <td>63.445761</td>\n",
              "      <td>0.482359</td>\n",
              "      <td>78.64</td>\n",
              "      <td>5</td>\n",
              "      <td>38537.363408</td>\n",
              "      <td>2</td>\n",
              "      <td>0.026150</td>\n",
              "      <td>11493</td>\n",
              "    </tr>\n",
              "    <tr>\n",
              "      <th>9996</th>\n",
              "      <td>Highly_Fatal_And_Damaging</td>\n",
              "      <td>40.365297</td>\n",
              "      <td>10</td>\n",
              "      <td>7</td>\n",
              "      <td>62.169553</td>\n",
              "      <td>0.421775</td>\n",
              "      <td>79.77</td>\n",
              "      <td>4</td>\n",
              "      <td>40846.916900</td>\n",
              "      <td>2</td>\n",
              "      <td>0.074898</td>\n",
              "      <td>305</td>\n",
              "    </tr>\n",
              "    <tr>\n",
              "      <th>9997</th>\n",
              "      <td>Significant_Damage_And_Serious_Injuries</td>\n",
              "      <td>27.853881</td>\n",
              "      <td>17</td>\n",
              "      <td>1</td>\n",
              "      <td>69.598906</td>\n",
              "      <td>0.318277</td>\n",
              "      <td>80.37</td>\n",
              "      <td>3</td>\n",
              "      <td>33771.996300</td>\n",
              "      <td>3</td>\n",
              "      <td>0.168173</td>\n",
              "      <td>612</td>\n",
              "    </tr>\n",
              "    <tr>\n",
              "      <th>9998</th>\n",
              "      <td>Minor_Damage_And_Injuries</td>\n",
              "      <td>56.210046</td>\n",
              "      <td>8</td>\n",
              "      <td>0</td>\n",
              "      <td>39.835916</td>\n",
              "      <td>0.598118</td>\n",
              "      <td>76.92</td>\n",
              "      <td>5</td>\n",
              "      <td>39820.419251</td>\n",
              "      <td>2</td>\n",
              "      <td>0.026381</td>\n",
              "      <td>4963</td>\n",
              "    </tr>\n",
              "    <tr>\n",
              "      <th>9999</th>\n",
              "      <td>Highly_Fatal_And_Damaging</td>\n",
              "      <td>50.000000</td>\n",
              "      <td>13</td>\n",
              "      <td>3</td>\n",
              "      <td>45.487694</td>\n",
              "      <td>0.382467</td>\n",
              "      <td>77.46</td>\n",
              "      <td>5</td>\n",
              "      <td>26005.322987</td>\n",
              "      <td>2</td>\n",
              "      <td>0.017036</td>\n",
              "      <td>9387</td>\n",
              "    </tr>\n",
              "  </tbody>\n",
              "</table>\n",
              "</div>"
            ],
            "text/plain": [
              "                                     Severity  ...  Accident_ID\n",
              "9995  Significant_Damage_And_Serious_Injuries  ...        11493\n",
              "9996                Highly_Fatal_And_Damaging  ...          305\n",
              "9997  Significant_Damage_And_Serious_Injuries  ...          612\n",
              "9998                Minor_Damage_And_Injuries  ...         4963\n",
              "9999                Highly_Fatal_And_Damaging  ...         9387\n",
              "\n",
              "[5 rows x 12 columns]"
            ]
          },
          "metadata": {
            "tags": []
          },
          "execution_count": 13
        }
      ]
    },
    {
      "cell_type": "code",
      "metadata": {
        "colab": {
          "base_uri": "https://localhost:8080/"
        },
        "id": "bnM8cNl0jZ_i",
        "outputId": "2fbac7b3-fccf-4940-e2aa-c7b4c8df245c"
      },
      "source": [
        "train_data.info()"
      ],
      "execution_count": 14,
      "outputs": [
        {
          "output_type": "stream",
          "text": [
            "<class 'pandas.core.frame.DataFrame'>\n",
            "RangeIndex: 10000 entries, 0 to 9999\n",
            "Data columns (total 12 columns):\n",
            " #   Column                   Non-Null Count  Dtype  \n",
            "---  ------                   --------------  -----  \n",
            " 0   Severity                 10000 non-null  object \n",
            " 1   Safety_Score             10000 non-null  float64\n",
            " 2   Days_Since_Inspection    10000 non-null  int64  \n",
            " 3   Total_Safety_Complaints  10000 non-null  int64  \n",
            " 4   Control_Metric           10000 non-null  float64\n",
            " 5   Turbulence_In_gforces    10000 non-null  float64\n",
            " 6   Cabin_Temperature        10000 non-null  float64\n",
            " 7   Accident_Type_Code       10000 non-null  int64  \n",
            " 8   Max_Elevation            10000 non-null  float64\n",
            " 9   Violations               10000 non-null  int64  \n",
            " 10  Adverse_Weather_Metric   10000 non-null  float64\n",
            " 11  Accident_ID              10000 non-null  int64  \n",
            "dtypes: float64(6), int64(5), object(1)\n",
            "memory usage: 937.6+ KB\n"
          ],
          "name": "stdout"
        }
      ]
    },
    {
      "cell_type": "code",
      "metadata": {
        "colab": {
          "base_uri": "https://localhost:8080/"
        },
        "id": "UP5jCcNLjdM4",
        "outputId": "074fbbfa-88a6-4916-f00a-a4e74a6ba50c"
      },
      "source": [
        "train_data.mean()"
      ],
      "execution_count": 15,
      "outputs": [
        {
          "output_type": "execute_result",
          "data": {
            "text/plain": [
              "Safety_Score                  41.876406\n",
              "Days_Since_Inspection         12.931100\n",
              "Total_Safety_Complaints        6.564300\n",
              "Control_Metric                65.145324\n",
              "Turbulence_In_gforces          0.381495\n",
              "Cabin_Temperature             79.969331\n",
              "Accident_Type_Code             3.814900\n",
              "Max_Elevation              32001.803282\n",
              "Violations                     2.012200\n",
              "Adverse_Weather_Metric         0.255635\n",
              "Accident_ID                 6266.554200\n",
              "dtype: float64"
            ]
          },
          "metadata": {
            "tags": []
          },
          "execution_count": 15
        }
      ]
    },
    {
      "cell_type": "code",
      "metadata": {
        "colab": {
          "base_uri": "https://localhost:8080/"
        },
        "id": "Vb2_YlORjmWV",
        "outputId": "af1d86c0-0ba6-472b-cf3f-62cda019d7d1"
      },
      "source": [
        "train_data.max()"
      ],
      "execution_count": 16,
      "outputs": [
        {
          "output_type": "execute_result",
          "data": {
            "text/plain": [
              "Severity                   Significant_Damage_And_Serious_Injuries\n",
              "Safety_Score                                                   100\n",
              "Days_Since_Inspection                                           23\n",
              "Total_Safety_Complaints                                         54\n",
              "Control_Metric                                                 100\n",
              "Turbulence_In_gforces                                     0.882648\n",
              "Cabin_Temperature                                            97.51\n",
              "Accident_Type_Code                                               7\n",
              "Max_Elevation                                              64297.7\n",
              "Violations                                                       5\n",
              "Adverse_Weather_Metric                                     2.36538\n",
              "Accident_ID                                                  12500\n",
              "dtype: object"
            ]
          },
          "metadata": {
            "tags": []
          },
          "execution_count": 16
        }
      ]
    },
    {
      "cell_type": "code",
      "metadata": {
        "colab": {
          "base_uri": "https://localhost:8080/"
        },
        "id": "K3oU6PRKjuRQ",
        "outputId": "8ffd3b30-e3a0-42e4-cb65-8cc1041b1539"
      },
      "source": [
        "train_data.min()"
      ],
      "execution_count": 17,
      "outputs": [
        {
          "output_type": "execute_result",
          "data": {
            "text/plain": [
              "Severity                   Highly_Fatal_And_Damaging\n",
              "Safety_Score                                       0\n",
              "Days_Since_Inspection                              1\n",
              "Total_Safety_Complaints                            0\n",
              "Control_Metric                                     0\n",
              "Turbulence_In_gforces                          0.134\n",
              "Cabin_Temperature                              74.74\n",
              "Accident_Type_Code                                 1\n",
              "Max_Elevation                                831.696\n",
              "Violations                                         0\n",
              "Adverse_Weather_Metric                   0.000316423\n",
              "Accident_ID                                        2\n",
              "dtype: object"
            ]
          },
          "metadata": {
            "tags": []
          },
          "execution_count": 17
        }
      ]
    },
    {
      "cell_type": "code",
      "metadata": {
        "colab": {
          "base_uri": "https://localhost:8080/"
        },
        "id": "ksGYM1EZjyyN",
        "outputId": "d69a51b1-fcf8-46fa-cc99-00b27c6b8606"
      },
      "source": [
        "type(train_data)"
      ],
      "execution_count": 18,
      "outputs": [
        {
          "output_type": "execute_result",
          "data": {
            "text/plain": [
              "pandas.core.frame.DataFrame"
            ]
          },
          "metadata": {
            "tags": []
          },
          "execution_count": 18
        }
      ]
    },
    {
      "cell_type": "code",
      "metadata": {
        "colab": {
          "base_uri": "https://localhost:8080/"
        },
        "id": "GphQvULkkF2C",
        "outputId": "5473b830-c15e-4dab-a30f-c04790992ad1"
      },
      "source": [
        "train_data.dtypes"
      ],
      "execution_count": 19,
      "outputs": [
        {
          "output_type": "execute_result",
          "data": {
            "text/plain": [
              "Severity                    object\n",
              "Safety_Score               float64\n",
              "Days_Since_Inspection        int64\n",
              "Total_Safety_Complaints      int64\n",
              "Control_Metric             float64\n",
              "Turbulence_In_gforces      float64\n",
              "Cabin_Temperature          float64\n",
              "Accident_Type_Code           int64\n",
              "Max_Elevation              float64\n",
              "Violations                   int64\n",
              "Adverse_Weather_Metric     float64\n",
              "Accident_ID                  int64\n",
              "dtype: object"
            ]
          },
          "metadata": {
            "tags": []
          },
          "execution_count": 19
        }
      ]
    },
    {
      "cell_type": "code",
      "metadata": {
        "id": "3sJ2VmerkMRB"
      },
      "source": [
        "train_data[\"Severity\"] = train_data[\"Severity\"].astype('category')"
      ],
      "execution_count": 21,
      "outputs": []
    },
    {
      "cell_type": "code",
      "metadata": {
        "colab": {
          "base_uri": "https://localhost:8080/"
        },
        "id": "vDGfRMcmkN5V",
        "outputId": "f06881bd-06f1-476a-fa52-3acd5d981a36"
      },
      "source": [
        "train_data.dtypes"
      ],
      "execution_count": 22,
      "outputs": [
        {
          "output_type": "execute_result",
          "data": {
            "text/plain": [
              "Severity                   category\n",
              "Safety_Score                float64\n",
              "Days_Since_Inspection         int64\n",
              "Total_Safety_Complaints       int64\n",
              "Control_Metric              float64\n",
              "Turbulence_In_gforces       float64\n",
              "Cabin_Temperature           float64\n",
              "Accident_Type_Code            int64\n",
              "Max_Elevation               float64\n",
              "Violations                    int64\n",
              "Adverse_Weather_Metric      float64\n",
              "Accident_ID                   int64\n",
              "dtype: object"
            ]
          },
          "metadata": {
            "tags": []
          },
          "execution_count": 22
        }
      ]
    },
    {
      "cell_type": "code",
      "metadata": {
        "colab": {
          "base_uri": "https://localhost:8080/"
        },
        "id": "VNT1RtCrkWzf",
        "outputId": "a4e67e74-a3a7-4d43-f3f3-f6d346f59555"
      },
      "source": [
        "train_data.isnull().sum()"
      ],
      "execution_count": 23,
      "outputs": [
        {
          "output_type": "execute_result",
          "data": {
            "text/plain": [
              "Severity                   0\n",
              "Safety_Score               0\n",
              "Days_Since_Inspection      0\n",
              "Total_Safety_Complaints    0\n",
              "Control_Metric             0\n",
              "Turbulence_In_gforces      0\n",
              "Cabin_Temperature          0\n",
              "Accident_Type_Code         0\n",
              "Max_Elevation              0\n",
              "Violations                 0\n",
              "Adverse_Weather_Metric     0\n",
              "Accident_ID                0\n",
              "dtype: int64"
            ]
          },
          "metadata": {
            "tags": []
          },
          "execution_count": 23
        }
      ]
    },
    {
      "cell_type": "code",
      "metadata": {
        "id": "qvhLiJqhkqZn"
      },
      "source": [
        "x = train_data.drop('Severity',axis=1)\r\n",
        "y = train_data.Severity\r\n",
        "x_train, x_test, y_train, y_test = train_test_split(x, y, test_size = 0.30,random_state=786)"
      ],
      "execution_count": 25,
      "outputs": []
    },
    {
      "cell_type": "code",
      "metadata": {
        "id": "hb0TK1S1lynp"
      },
      "source": [
        "# Lets stick to default Hyperparametrs as of now. We shall tune the best model\r\n",
        "log_reg = LogisticRegression(random_state= 42)\r\n",
        "svc = SVC(random_state= 42,gamma='auto',probability=True)\r\n",
        "rf = RandomForestClassifier(random_state= 42,n_estimators = 100)\r\n",
        "ada = AdaBoostClassifier(random_state= 42)\r\n",
        "xgb = XGBClassifier(random_state= 42)\r\n",
        "dt=DecisionTreeClassifier(criterion = \"gini\",random_state = 42)\r\n",
        "bc = BaggingClassifier(base_estimator=dt, random_state=42)\r\n",
        "vc = VotingClassifier(estimators=[('LogisticRegresion', log_reg), ('RandomForest',rf), ('SupportVectorMachine', svc),('AdaBoost',ada),('XGBClassifier',xgb),('DecisionTree',dt)],voting='soft')"
      ],
      "execution_count": 26,
      "outputs": []
    },
    {
      "cell_type": "code",
      "metadata": {
        "id": "RR6A8Mc5n42z"
      },
      "source": [
        "# Predict function\r\n",
        "def training_predict(trainer, X_train, Y_train, X_test, Y_test):\r\n",
        "    scores = {} # Initializing a Dictionary to store evaluation metrics    \r\n",
        "    trainer.fit(X_train, Y_train)  # Training\r\n",
        "    Y_pred = trainer.predict(X_test) # Predicts  \r\n",
        "    scores['Accuracy_test'] = accuracy_score(Y_test , Y_pred)    \r\n",
        "    scores['Recall_test'] = recall_score(Y_test , Y_pred,average='macro')    \r\n",
        "    scores['Precision_test'] = precision_score(Y_test , Y_pred,average='macro')    \r\n",
        "    return scores"
      ],
      "execution_count": 27,
      "outputs": []
    },
    {
      "cell_type": "code",
      "metadata": {
        "colab": {
          "base_uri": "https://localhost:8080/"
        },
        "id": "hNEQRJnkn9zF",
        "outputId": "1a39e9b0-364b-433a-c8da-38384d15d75b"
      },
      "source": [
        "# Ignore the error\r\n",
        "import time\r\n",
        "start = time.time()\r\n",
        "predictors = {} # Initializing a dictionary to store training and testing data\r\n",
        "for model in [log_reg, svc, rf,dt,ada, xgb,bc,vc]: # these are our objects that we instantiated above. We loop through them\r\n",
        "    model_name = model.__class__.__name__\r\n",
        "    predictors[model_name]  = {}\r\n",
        "    predictors[model_name] =  training_predict(model, x_train, y_train, x_test, y_test)#Scores that is returned from trainer goes to\r\n",
        "                                                                             # the respective predictor   print('Loop Ended at {}'.format(datetime.now().strftime(\"%H:%M:%S\")))\r\n",
        "print('\\n')    \r\n",
        "print('Loop took {} mins'.format((time.time() - start) / 60))  "
      ],
      "execution_count": 28,
      "outputs": [
        {
          "output_type": "stream",
          "text": [
            "/usr/local/lib/python3.6/dist-packages/sklearn/linear_model/_logistic.py:940: ConvergenceWarning: lbfgs failed to converge (status=1):\n",
            "STOP: TOTAL NO. of ITERATIONS REACHED LIMIT.\n",
            "\n",
            "Increase the number of iterations (max_iter) or scale the data as shown in:\n",
            "    https://scikit-learn.org/stable/modules/preprocessing.html\n",
            "Please also refer to the documentation for alternative solver options:\n",
            "    https://scikit-learn.org/stable/modules/linear_model.html#logistic-regression\n",
            "  extra_warning_msg=_LOGISTIC_SOLVER_CONVERGENCE_MSG)\n",
            "/usr/local/lib/python3.6/dist-packages/sklearn/metrics/_classification.py:1272: UndefinedMetricWarning: Precision is ill-defined and being set to 0.0 in labels with no predicted samples. Use `zero_division` parameter to control this behavior.\n",
            "  _warn_prf(average, modifier, msg_start, len(result))\n",
            "/usr/local/lib/python3.6/dist-packages/sklearn/linear_model/_logistic.py:940: ConvergenceWarning: lbfgs failed to converge (status=1):\n",
            "STOP: TOTAL NO. of ITERATIONS REACHED LIMIT.\n",
            "\n",
            "Increase the number of iterations (max_iter) or scale the data as shown in:\n",
            "    https://scikit-learn.org/stable/modules/preprocessing.html\n",
            "Please also refer to the documentation for alternative solver options:\n",
            "    https://scikit-learn.org/stable/modules/linear_model.html#logistic-regression\n",
            "  extra_warning_msg=_LOGISTIC_SOLVER_CONVERGENCE_MSG)\n"
          ],
          "name": "stderr"
        },
        {
          "output_type": "stream",
          "text": [
            "\n",
            "\n",
            "Loop took 0.7859011928240458 mins\n"
          ],
          "name": "stdout"
        }
      ]
    },
    {
      "cell_type": "code",
      "metadata": {
        "colab": {
          "base_uri": "https://localhost:8080/",
          "height": 297
        },
        "id": "7UCI-FQGoDhi",
        "outputId": "1cfe8f90-e2e8-47bc-8da1-10db7d3d1062"
      },
      "source": [
        "pd.DataFrame(predictors).T"
      ],
      "execution_count": 29,
      "outputs": [
        {
          "output_type": "execute_result",
          "data": {
            "text/html": [
              "<div>\n",
              "<style scoped>\n",
              "    .dataframe tbody tr th:only-of-type {\n",
              "        vertical-align: middle;\n",
              "    }\n",
              "\n",
              "    .dataframe tbody tr th {\n",
              "        vertical-align: top;\n",
              "    }\n",
              "\n",
              "    .dataframe thead th {\n",
              "        text-align: right;\n",
              "    }\n",
              "</style>\n",
              "<table border=\"1\" class=\"dataframe\">\n",
              "  <thead>\n",
              "    <tr style=\"text-align: right;\">\n",
              "      <th></th>\n",
              "      <th>Accuracy_test</th>\n",
              "      <th>Recall_test</th>\n",
              "      <th>Precision_test</th>\n",
              "    </tr>\n",
              "  </thead>\n",
              "  <tbody>\n",
              "    <tr>\n",
              "      <th>LogisticRegression</th>\n",
              "      <td>0.415333</td>\n",
              "      <td>0.370497</td>\n",
              "      <td>0.304828</td>\n",
              "    </tr>\n",
              "    <tr>\n",
              "      <th>SVC</th>\n",
              "      <td>0.307667</td>\n",
              "      <td>0.250000</td>\n",
              "      <td>0.076917</td>\n",
              "    </tr>\n",
              "    <tr>\n",
              "      <th>RandomForestClassifier</th>\n",
              "      <td>0.902000</td>\n",
              "      <td>0.899462</td>\n",
              "      <td>0.901254</td>\n",
              "    </tr>\n",
              "    <tr>\n",
              "      <th>DecisionTreeClassifier</th>\n",
              "      <td>0.922333</td>\n",
              "      <td>0.922155</td>\n",
              "      <td>0.920605</td>\n",
              "    </tr>\n",
              "    <tr>\n",
              "      <th>AdaBoostClassifier</th>\n",
              "      <td>0.552000</td>\n",
              "      <td>0.496674</td>\n",
              "      <td>0.462770</td>\n",
              "    </tr>\n",
              "    <tr>\n",
              "      <th>XGBClassifier</th>\n",
              "      <td>0.830667</td>\n",
              "      <td>0.829192</td>\n",
              "      <td>0.833971</td>\n",
              "    </tr>\n",
              "    <tr>\n",
              "      <th>BaggingClassifier</th>\n",
              "      <td>0.941333</td>\n",
              "      <td>0.941163</td>\n",
              "      <td>0.941439</td>\n",
              "    </tr>\n",
              "    <tr>\n",
              "      <th>VotingClassifier</th>\n",
              "      <td>0.932000</td>\n",
              "      <td>0.932409</td>\n",
              "      <td>0.930837</td>\n",
              "    </tr>\n",
              "  </tbody>\n",
              "</table>\n",
              "</div>"
            ],
            "text/plain": [
              "                        Accuracy_test  Recall_test  Precision_test\n",
              "LogisticRegression           0.415333     0.370497        0.304828\n",
              "SVC                          0.307667     0.250000        0.076917\n",
              "RandomForestClassifier       0.902000     0.899462        0.901254\n",
              "DecisionTreeClassifier       0.922333     0.922155        0.920605\n",
              "AdaBoostClassifier           0.552000     0.496674        0.462770\n",
              "XGBClassifier                0.830667     0.829192        0.833971\n",
              "BaggingClassifier            0.941333     0.941163        0.941439\n",
              "VotingClassifier             0.932000     0.932409        0.930837"
            ]
          },
          "metadata": {
            "tags": []
          },
          "execution_count": 29
        }
      ]
    },
    {
      "cell_type": "code",
      "metadata": {
        "id": "v36oz6_GocXp"
      },
      "source": [
        "bc1=BaggingClassifier(base_estimator=dt,n_estimators=10)"
      ],
      "execution_count": 30,
      "outputs": []
    },
    {
      "cell_type": "code",
      "metadata": {
        "colab": {
          "base_uri": "https://localhost:8080/"
        },
        "id": "a99z0oIvolh7",
        "outputId": "0120cf3b-8231-4240-ff65-936706a2fc8b"
      },
      "source": [
        "bc1.fit(x_train,y_train)"
      ],
      "execution_count": 31,
      "outputs": [
        {
          "output_type": "execute_result",
          "data": {
            "text/plain": [
              "BaggingClassifier(base_estimator=DecisionTreeClassifier(ccp_alpha=0.0,\n",
              "                                                        class_weight=None,\n",
              "                                                        criterion='gini',\n",
              "                                                        max_depth=None,\n",
              "                                                        max_features=None,\n",
              "                                                        max_leaf_nodes=None,\n",
              "                                                        min_impurity_decrease=0.0,\n",
              "                                                        min_impurity_split=None,\n",
              "                                                        min_samples_leaf=1,\n",
              "                                                        min_samples_split=2,\n",
              "                                                        min_weight_fraction_leaf=0.0,\n",
              "                                                        presort='deprecated',\n",
              "                                                        random_state=42,\n",
              "                                                        splitter='best'),\n",
              "                  bootstrap=True, bootstrap_features=False, max_features=1.0,\n",
              "                  max_samples=1.0, n_estimators=10, n_jobs=None,\n",
              "                  oob_score=False, random_state=None, verbose=0,\n",
              "                  warm_start=False)"
            ]
          },
          "metadata": {
            "tags": []
          },
          "execution_count": 31
        }
      ]
    },
    {
      "cell_type": "code",
      "metadata": {
        "id": "hRxfumqDoo-T"
      },
      "source": [
        "y_pred=bc1.predict(x_test)"
      ],
      "execution_count": 32,
      "outputs": []
    },
    {
      "cell_type": "code",
      "metadata": {
        "id": "Zo4DmRpXot0M"
      },
      "source": [
        "from sklearn.metrics import classification_report,confusion_matrix,accuracy_score,f1_score"
      ],
      "execution_count": 33,
      "outputs": []
    },
    {
      "cell_type": "code",
      "metadata": {
        "colab": {
          "base_uri": "https://localhost:8080/"
        },
        "id": "nqhv8x85oxLF",
        "outputId": "47bc242f-b8cb-4433-f1f1-8e6be98f0339"
      },
      "source": [
        "y_train_pred=bc1.predict(x_train)\r\n",
        "print(\"F1_Score for Train:\",f1_score(y_train,y_train_pred,average='macro'))"
      ],
      "execution_count": 34,
      "outputs": [
        {
          "output_type": "stream",
          "text": [
            "F1_Score for Train: 0.9970075746966374\n"
          ],
          "name": "stdout"
        }
      ]
    },
    {
      "cell_type": "code",
      "metadata": {
        "colab": {
          "base_uri": "https://localhost:8080/"
        },
        "id": "RFJFTs5Roz6o",
        "outputId": "cae62cec-40b6-48af-a740-c64e025254c8"
      },
      "source": [
        "print(\"F1_Score for Test:\",f1_score(y_test,y_pred,average='macro'))"
      ],
      "execution_count": 35,
      "outputs": [
        {
          "output_type": "stream",
          "text": [
            "F1_Score for Test: 0.9374077629951703\n"
          ],
          "name": "stdout"
        }
      ]
    },
    {
      "cell_type": "code",
      "metadata": {
        "colab": {
          "base_uri": "https://localhost:8080/"
        },
        "id": "daVD5Sv5o2_E",
        "outputId": "1fb269cc-8ef4-4081-f7bc-e793d335f18e"
      },
      "source": [
        "print(\"Accuracy :\",accuracy_score(y_test,y_pred))"
      ],
      "execution_count": 36,
      "outputs": [
        {
          "output_type": "stream",
          "text": [
            "Accuracy : 0.938\n"
          ],
          "name": "stdout"
        }
      ]
    },
    {
      "cell_type": "code",
      "metadata": {
        "id": "hSWMdiS5o71s"
      },
      "source": [
        "sub=bc1.predict(test_data)"
      ],
      "execution_count": 38,
      "outputs": []
    },
    {
      "cell_type": "code",
      "metadata": {
        "id": "Yl0rBrBZo_-Q"
      },
      "source": [
        "final= pd.DataFrame({'Accident_ID' : test_data['Accident_ID'],\r\n",
        "                     'Severity' : sub})"
      ],
      "execution_count": 39,
      "outputs": []
    },
    {
      "cell_type": "code",
      "metadata": {
        "colab": {
          "base_uri": "https://localhost:8080/"
        },
        "id": "wmsO1fjopF0T",
        "outputId": "f1b39d90-3b20-4538-ce27-bee1f4404817"
      },
      "source": [
        "final.to_csv(\"submission_file_1a.csv\",index=False)\r\n",
        "final.shape"
      ],
      "execution_count": 40,
      "outputs": [
        {
          "output_type": "execute_result",
          "data": {
            "text/plain": [
              "(2500, 2)"
            ]
          },
          "metadata": {
            "tags": []
          },
          "execution_count": 40
        }
      ]
    },
    {
      "cell_type": "code",
      "metadata": {
        "id": "G_hF8Ea_pJVQ"
      },
      "source": [
        ""
      ],
      "execution_count": null,
      "outputs": []
    }
  ]
}